{
 "cells": [
  {
   "cell_type": "markdown",
   "metadata": {},
   "source": [
    "# Trường Đại học Khoa Học Tự Nhiên \n",
    "# Khoa Công Nghệ Thông Tin\n"
   ]
  },
  {
   "cell_type": "markdown",
   "metadata": {},
   "source": [
    "## Đồ án cuối kỳ: Khoa học dữ liệu và Ứng dụng"
   ]
  },
  {
   "cell_type": "markdown",
   "metadata": {},
   "source": [
    "### Nhóm sinh viên thực hiện:\n",
    "| STT | MSSV | Họ và Tên |\n",
    "| --- | --- | --- |\n",
    "| 01 | 1712117 | Nguyễn Huỳnh Thảo Nhi |\n",
    "| 02 | 17121713 | Lê Bá Quyền |"
   ]
  },
  {
   "cell_type": "markdown",
   "metadata": {},
   "source": [
    "## ----------------------------------------------------"
   ]
  },
  {
   "cell_type": "markdown",
   "metadata": {},
   "source": [
    "## 1. Mục tiêu"
   ]
  },
  {
   "cell_type": "markdown",
   "metadata": {},
   "source": [
    "- Ôn tập và vận dụng các kiến thức đã học thực hiện một Quy trình Khoa học dữ liệu cho một vấn đề\n",
    "có tính dự đoán.\n",
    "- Cần phải hiểu kỹ và áp dụng từng giai đoạn của một quy trình một cách rõ ràng với câu hỏi được\n",
    "đặt ra."
   ]
  },
  {
   "cell_type": "markdown",
   "metadata": {},
   "source": [
    "## 2. Nội dung đồ án "
   ]
  },
  {
   "cell_type": "markdown",
   "metadata": {},
   "source": [
    "- Ứng dụng Quy trình Khoa học dữ liệu để trả loại cho loại câu hỏi dự đoán. Các bạn sẽ tự lựa\n",
    "chọn câu hỏi sao cho phù hợp. Ví dụ như dự đoán thời tiết, dự đoán giá của laptop,...\n",
    "    - Phải dùng Máy Học để mô hình hóa dữ liệu.\n",
    "    - Tự thu nhập dữ liệu cho câu hỏi của bạn. Không được lấy dữ liệu có sẵn. Thu nhập bằng cách\n",
    "sử dụng parse HTML, dùng API.\n",
    "    - Các thành viên trong nhóm phải cùng thực hiện chung và hiểu rõ về đồ án của mình. Trình bày\n",
    "rõ ràng công việc của từng người."
   ]
  },
  {
   "cell_type": "markdown",
   "metadata": {},
   "source": [
    "### 2.1 Quy định"
   ]
  },
  {
   "cell_type": "markdown",
   "metadata": {},
   "source": [
    "- Các bạn làm trên một hoặc nhiều file Jupyter notebook sao cho phù hợp với đồ án của bạn. Nên trình bày các file notebook một cách dễ hiểu cho người đọc, như có tiêu đề từng phần, ghi chú phần nào quan trọng, visualize dữ liệu,... Như vậy sẽ dễ trong việc hiểu các bạn đang làm gì và dễ chấm bài. Cần có phải có 1 file (README.md) trình bày thông tin của đồ án bao gồm:\n",
    "    1. Câu hỏi được đặt ra là gì?\n",
    "    2. Nếu trả lời được câu hỏi thì có ý nghĩa gì?\n",
    "    3. Cách thức thu nhập dữ liệu như thế nào? (từ đâu, parse HTML hay API, tham khảo từ đâu,...)\n",
    "    4. Tổng quan dữ liệu thu nhập được có bao nhiêu dòng, cột và cột cần dự đoán là gì.\n",
    "    5. Với mỗi cột dữ liệu thu nhập có ý nghĩa gì, kiểu dữ liệu và ví dụ.\n",
    "    6. Tự đánh giá đồ án (kết quả, thiếu sót, cần làm gì phát triển thêm,..).\n",
    "    7. Phân công công việc.\n",
    "    8. Hướng dẫn chạy các file notebook (tất cả các quy trình, cả code thu nhập dữ liệu)\n",
    "Dữ liệu thu nhập được sẽ lưu trong (các) file .csv."
   ]
  },
  {
   "cell_type": "markdown",
   "metadata": {},
   "source": [
    "### 2.2 Nộp đồ án"
   ]
  },
  {
   "cell_type": "markdown",
   "metadata": {},
   "source": [
    "- Để tất cả các file trong một thư mục đặt tên <MSSV1>_<MSSV2> và gửi file <MSSV1>_<MSSV2>.zip\n",
    "Nếu sau khi nén có kích thước lớn không thể nộp trên moodle thì có thể upload drive và gửi link\n",
    "(nhớ mở share link nếu không đồ án không được chấm).\n",
    "- Điểm cộng cho các nhóm có câu hỏi hay và không phổ biến (như dự đoán thời tiết,...)\n",
    "Chú ý: Bài làm giống nhau 0 điểm. Một thành viên nào trong nhóm không hiểu hết code của đồ\n",
    "án mình, cả nhóm 0 điểm"
   ]
  },
  {
   "cell_type": "markdown",
   "metadata": {},
   "source": [
    "## -----------------------------------------------------"
   ]
  },
  {
   "cell_type": "markdown",
   "metadata": {},
   "source": [
    "# <span style=\"color:#336699\">Đồ án: Dự đoán giá bất động sản tại khu vực thành phố Hồ Chí Minh </span>"
   ]
  },
  {
   "cell_type": "markdown",
   "metadata": {},
   "source": [
    "## 1. Câu hỏi đặt ra"
   ]
  },
  {
   "cell_type": "markdown",
   "metadata": {},
   "source": [
    "Dự đoán giá của bất động sản tại khu vực thành phố hồ chí minh."
   ]
  },
  {
   "cell_type": "markdown",
   "metadata": {},
   "source": [
    "## 2. Ý nghĩa"
   ]
  },
  {
   "cell_type": "markdown",
   "metadata": {},
   "source": [
    "- Lĩnh vực bất động sản luôn ảnh hưởng lớn đến nền kinh tế quốc gia. Thông qua kết quả nhận được từ bài toán dự đoán giá bất động sản nêu trên, người dùng có thể sử dụng để đáp ứng các nhu cầu như sau:\n",
    "    - Sử dụng kết quả làm giá tham khảo khi có nhu cầu mua bất động sản với những tiêu chí được đề ra. \n",
    "    - Người dùng có nhu cầu muốn mua nhà trong tương lai, muốn định lượng được giá bất động sản với những tiêu chí đề ra, ước tính chi phí phù hợp và kế hoạch chi tiêu cho bản thân.\n",
    "    - Các công ty, dịch vụ bất động sản sử dụng làm mức giá sàn tham khảo và đề xuất được mức giá phù hợp đối với công ty và khách hàng."
   ]
  },
  {
   "cell_type": "markdown",
   "metadata": {},
   "source": [
    "## 3. Thu thập dữ liệu"
   ]
  },
  {
   "cell_type": "markdown",
   "metadata": {},
   "source": [
    "Dữ liệu được thu thập bằng cách parse HTML từ các website kinh doanh dịch vụ bất động sản online nổi tiếng trong nước."
   ]
  },
  {
   "cell_type": "markdown",
   "metadata": {},
   "source": [
    "Dưới đây là danh sách các website được nhóm khảo sát dữ liệu để thực hiện việc thu thập dữ liệu phục vụ cho bài toán."
   ]
  },
  {
   "cell_type": "markdown",
   "metadata": {},
   "source": [
    "- https://batdongsan.com.vn/\n",
    "- https://homedy.com/\n",
    "- https://nha.chotot.com/tp-ho-chi-minh/mua-ban-bat-dong-san\n",
    "- https://meeyland.com/"
   ]
  },
  {
   "cell_type": "markdown",
   "metadata": {},
   "source": [
    "Thông qua quá trình khảo sát, nghiên cứu và so sánh dữ liệu của các trang web. Nhóm lựa chọn trang web https://batdongsan.com.vn/ do nhận thấy dữ liệu từ trang phù hợp của yêu cầu đặt ra của bài toán. Ngoài ra, website cũng cho phép người dùng có thể thu thập dữ liệu từ trang web."
   ]
  },
  {
   "cell_type": "markdown",
   "metadata": {},
   "source": [
    "### Cài đặt thư viện"
   ]
  },
  {
   "cell_type": "markdown",
   "metadata": {},
   "source": [
    "Cài đặt các thư viện python hỗ trợ thu thập và xử lý dữ liệu"
   ]
  },
  {
   "cell_type": "code",
   "execution_count": 2,
   "metadata": {},
   "outputs": [],
   "source": [
    "from requests_html import HTMLSession, HTML\n",
    "import pandas as pd\n",
    "import re"
   ]
  },
  {
   "cell_type": "markdown",
   "metadata": {},
   "source": [
    "### Thực hiện thu thập dữ liệu từ website"
   ]
  },
  {
   "cell_type": "code",
   "execution_count": 3,
   "metadata": {},
   "outputs": [],
   "source": [
    "session = HTMLSession()"
   ]
  },
  {
   "cell_type": "markdown",
   "metadata": {},
   "source": [
    "#### Link các website "
   ]
  },
  {
   "cell_type": "code",
   "execution_count": 4,
   "metadata": {},
   "outputs": [],
   "source": [
    "link = \"https://batdongsan.com.vn/nha-dat-ban-tp-hcm\"\n",
    "raw_link = \"https://batdongsan.com.vn\""
   ]
  },
  {
   "cell_type": "code",
   "execution_count": 5,
   "metadata": {
    "scrolled": true
   },
   "outputs": [
    {
     "name": "stdout",
     "output_type": "stream",
     "text": [
      "<HTML url='https://batdongsan.com.vn/nha-dat-ban'>\n"
     ]
    }
   ],
   "source": [
    "r = session.get(link)\n",
    "print(r.html)"
   ]
  },
  {
   "cell_type": "code",
   "execution_count": 9,
   "metadata": {},
   "outputs": [
    {
     "name": "stdout",
     "output_type": "stream",
     "text": [
      "ĐẤT VƯỜN BẢO LỘC VIEW ĐẸP, THÍCH HỢP NGHỈ DƯỠNG ĐẦU TƯ\n",
      "VINHOMES GRAND PARK MỞ BÁN S10 GIÁ TỐT NHẤT THỊ TRƯỜNG, THANH TOÁN 15% NHẬN NHÀ LH PKD 0977771919\n",
      "CHÍNH CHỦ CẦN BÁN GẤP CĂN 2PN VIEW ĐẸP NHẤT DỰ ÁN D'LUSSO, QUẬN 2 GIÁ RẺ NHẤT THỊ TRƯỜNG\n",
      "CẬP NHẬT HÀ ĐÔ RẺ NHẤT BÁN,THUÊ 1PN-3PN GIÁ 3,7 TỶ 2PN GIÁ 4.2-5,1 TỶ, 3PN 6,3 TỶ. 0777796088\n",
      "NHỮNG ĐIỀU BẠN CHƯA BIẾT VỀ PARK VIEW - SIÊU DỰ ÁN CĂN HỘ CÓ KHÔNG GIAN SỐNG XANH NHẤT THUẬN AN\n",
      "SỞ HỮU CĂN HỘ PRECIA QUẬN 2 MANG QÙA NOEL TRỊ GÍA 100TR NGAY VỀ NHÀ, PHÁP LÝ RÕ RÀNG,GỌI 0937872286\n",
      "CẦN CHUYỂN NHƯỢNG BIỆT THỰ PHONG CÁC MIỀN QUÊ NƯỚC MỸ. TẠI XÃ CƯ YÊN, HUYỆN LƯƠNG SƠN, HOÀ BÌNH\n",
      "EM 6 NĂM CHUYÊN GIỎ HÀNG MASTERI THẢO ĐIỀN VÀ MASTERI AN PHÚ!!!\n",
      "CĂN GÓC ĐẸP DUY NHẤT, GIÁ TỐT NHẤT IMPERIA SKY GARDEN. BAN CÔNG ĐÔNG NAM, TẦNG 20, BAO PHÍ, RA LỘC\n",
      "CHỈ TT 270TR SỞ HỮU NGAY CH PHONG CÁCH AQUA RESORT ASTRAL CITY TP THUẬN AN, GÓP 2 NĂM 0 LÃI SUẤT\n",
      "BÁN CĂN HỘ SAFIRA KĐ LOẠI 1PN, 2PN VÀ 3PN, GIÁ TỐT, HỖ TRỢ NH 70%, XEM NHÀ NHANH LH: 0878 80 4567\n",
      "ĐỘC QUYỀN 100 CĂN TTGD SAFIRA KHANG ĐIỀN THÁNG 12 - PKD LIÊN KẾT CĐT CAM KẾT GIÁ RẺ NHẤT 0764274919\n",
      "ĐẤT NỀN BẢO LỘC DT TRÊN 500M2 - GIÁ TỪ 2,9 - 4,2 TR/M2 - MỞ BÁN GIAI ĐOẠN I - 20 NỀN BIỆT THỰ\n",
      "THE MATRIX ONE - BÊN CẠNH BỘ NGOẠI GIAO MỚI - ĐẸP NHẤT KHU KEANGNAM\n",
      "MỞ BÁN 2000 CĂN HỘ THE ORIGAMI ZEN 10 CHỈ VỚI 250 - 600 TR, TẶNG VOUCHER\n",
      "TRẢ NỢ NGÂN HÀNG NÊN CẦN BÁN GẤP NHÀ VỚI 42 PHÒNG TRỌ VÀ 1 KIOT. LH 0848.17.33.88\n",
      "CHỈ CẦN CHỨNG MINH THU NHẬP TỪ 70 TRIỆU/THÁNG, SỞ HỮU NGAY CĂN 3PN GIÁ 6 TỶ CHỈ VỚI 1.8 TỶ (30%)\n",
      "BÁN ĐẤT DỰ ÁN HUD - XDHN - THÀNH HƯNG\n",
      "BÁN ĐẤT THỔ CƯ BÌA ĐỎ CHÍNH CHỦ, PHÁP LÝ RÕ RÀNG, SANG TÊN TRONG 1 NỐT NHẠC. GIÁ CHỈ 6. X/M2\n",
      "CHÍNH CHỦ CẦN BÁN GẤP 2 LÔ LIỀN KỀ ĐẸP NHẤT KHU, DIỆN TÍCH 100M2 GIÁ 24TR/M2. LIÊN HỆ 0987916694\n",
      "ĐẤT VƯỜN BẢO LỘC VIEW ĐẸP, THÍCH HỢP NGHỈ DƯỠNG ĐẦU TƯ\n",
      "VINHOMES GRAND PARK MỞ BÁN S10 GIÁ TỐT NHẤT THỊ TRƯỜNG, THANH TOÁN 15% NHẬN NHÀ LH PKD 0977771919\n",
      "CHÍNH CHỦ CẦN BÁN GẤP CĂN 2PN VIEW ĐẸP NHẤT DỰ ÁN D'LUSSO, QUẬN 2 GIÁ RẺ NHẤT THỊ TRƯỜNG\n",
      "CẬP NHẬT HÀ ĐÔ RẺ NHẤT BÁN,THUÊ 1PN-3PN GIÁ 3,7 TỶ 2PN GIÁ 4.2-5,1 TỶ, 3PN 6,3 TỶ. 0777796088\n",
      "NHỮNG ĐIỀU BẠN CHƯA BIẾT VỀ PARK VIEW - SIÊU DỰ ÁN CĂN HỘ CÓ KHÔNG GIAN SỐNG XANH NHẤT THUẬN AN\n",
      "SỞ HỮU CĂN HỘ PRECIA QUẬN 2 MANG QÙA NOEL TRỊ GÍA 100TR NGAY VỀ NHÀ, PHÁP LÝ RÕ RÀNG,GỌI 0937872286\n",
      "CẦN CHUYỂN NHƯỢNG BIỆT THỰ PHONG CÁC MIỀN QUÊ NƯỚC MỸ. TẠI XÃ CƯ YÊN, HUYỆN LƯƠNG SƠN, HOÀ BÌNH\n",
      "EM 6 NĂM CHUYÊN GIỎ HÀNG MASTERI THẢO ĐIỀN VÀ MASTERI AN PHÚ!!!\n",
      "CĂN GÓC ĐẸP DUY NHẤT, GIÁ TỐT NHẤT IMPERIA SKY GARDEN. BAN CÔNG ĐÔNG NAM, TẦNG 20, BAO PHÍ, RA LỘC\n",
      "CHỈ TT 270TR SỞ HỮU NGAY CH PHONG CÁCH AQUA RESORT ASTRAL CITY TP THUẬN AN, GÓP 2 NĂM 0 LÃI SUẤT\n",
      "BÁN CĂN HỘ SAFIRA KĐ LOẠI 1PN, 2PN VÀ 3PN, GIÁ TỐT, HỖ TRỢ NH 70%, XEM NHÀ NHANH LH: 0878 80 4567\n",
      "ĐỘC QUYỀN 100 CĂN TTGD SAFIRA KHANG ĐIỀN THÁNG 12 - PKD LIÊN KẾT CĐT CAM KẾT GIÁ RẺ NHẤT 0764274919\n",
      "ĐẤT NỀN BẢO LỘC DT TRÊN 500M2 - GIÁ TỪ 2,9 - 4,2 TR/M2 - MỞ BÁN GIAI ĐOẠN I - 20 NỀN BIỆT THỰ\n",
      "THE MATRIX ONE - BÊN CẠNH BỘ NGOẠI GIAO MỚI - ĐẸP NHẤT KHU KEANGNAM\n",
      "MỞ BÁN 2000 CĂN HỘ THE ORIGAMI ZEN 10 CHỈ VỚI 250 - 600 TR, TẶNG VOUCHER\n",
      "TRẢ NỢ NGÂN HÀNG NÊN CẦN BÁN GẤP NHÀ VỚI 42 PHÒNG TRỌ VÀ 1 KIOT. LH 0848.17.33.88\n",
      "CHỈ CẦN CHỨNG MINH THU NHẬP TỪ 70 TRIỆU/THÁNG, SỞ HỮU NGAY CĂN 3PN GIÁ 6 TỶ CHỈ VỚI 1.8 TỶ (30%)\n",
      "BÁN ĐẤT DỰ ÁN HUD - XDHN - THÀNH HƯNG\n",
      "BÁN ĐẤT THỔ CƯ BÌA ĐỎ CHÍNH CHỦ, PHÁP LÝ RÕ RÀNG, SANG TÊN TRONG 1 NỐT NHẠC. GIÁ CHỈ 6. X/M2\n",
      "CHÍNH CHỦ CẦN BÁN GẤP 2 LÔ LIỀN KỀ ĐẸP NHẤT KHU, DIỆN TÍCH 100M2 GIÁ 24TR/M2. LIÊN HỆ 0987916694\n"
     ]
    }
   ],
   "source": [
    "num_page = 1\n",
    "pre = \"p\"\n",
    "f = open('bds.csv', 'w', encoding='utf-8')\n",
    "link_next = link\n",
    "session = HTMLSession()\n",
    "f.write(f'\"Tiêu đề\",\"Chú thích\",\"Giá\",\"Diện tích\",\"Đặc điểm bất động sản\",\"Thông tin dự án\"\\n')\n",
    "\n",
    "while(num_page < 100000):\n",
    "    r = session.get(link)\n",
    "    num_page += 1\n",
    "    next_link = pre + str(num_page)\n",
    "    detail_links = r.html.find(\".product-item > a\")\n",
    "    for detail_link in detail_links:\n",
    "        dt = session.get(raw_link + detail_link.attrs['href'])\n",
    "        title = dt.html.find(\".tile-product\",first = True).text\n",
    "        short_detail = dt.html.find(\".short-detail\",first = True).text\n",
    "        price = dt.html.find(\".short-detail-2 li:nth-child(1) span:last-child\",first = True).text\n",
    "        area = dt.html.find(\".short-detail-2 li:nth-child(2) span:last-child\",first = True).text\n",
    "        detail = dt.html.find(\".detail-2 > div\",first = True).text\n",
    "        info  = dt.html.find(\".detail-2:nth-child(3) > div\",first = True).text\n",
    "        #print(f'{title}')\n",
    "        f.write(f'\"{title}\",\"{short_detail}\",\"{price}\",\"{area}\",\"{detail}\",\"{info}\"\\n')\n",
    "    link_next = link+ '/' + next_link \n",
    "f.close()\n",
    "session.close()"
   ]
  },
  {
   "cell_type": "markdown",
   "metadata": {},
   "source": [
    "## 4. Tổng quan dữ liệu"
   ]
  },
  {
   "cell_type": "markdown",
   "metadata": {},
   "source": [
    "Sau khi thực hiện quá trình thu thập dữ liệu từ trang web `batdongsan.com`, nhóm lưu dữ liệu vào file `bds.csv`"
   ]
  },
  {
   "cell_type": "markdown",
   "metadata": {},
   "source": [
    "Tổng quan về dữ liệu như sau:\n",
    "    - Số dòng: 5000 \n",
    "    - Số cột: 6\n",
    "    - Cột cần dự đoán: Giá"
   ]
  },
  {
   "cell_type": "code",
   "execution_count": 105,
   "metadata": {},
   "outputs": [
    {
     "data": {
      "text/html": [
       "<div>\n",
       "<style scoped>\n",
       "    .dataframe tbody tr th:only-of-type {\n",
       "        vertical-align: middle;\n",
       "    }\n",
       "\n",
       "    .dataframe tbody tr th {\n",
       "        vertical-align: top;\n",
       "    }\n",
       "\n",
       "    .dataframe thead th {\n",
       "        text-align: right;\n",
       "    }\n",
       "</style>\n",
       "<table border=\"1\" class=\"dataframe\">\n",
       "  <thead>\n",
       "    <tr style=\"text-align: right;\">\n",
       "      <th></th>\n",
       "      <th>Tiêu đề</th>\n",
       "      <th>Chú thích</th>\n",
       "      <th>Giá</th>\n",
       "      <th>Diện tích</th>\n",
       "      <th>Đặc điểm bất động sản</th>\n",
       "      <th>Thông tin dự án</th>\n",
       "    </tr>\n",
       "  </thead>\n",
       "  <tbody>\n",
       "    <tr>\n",
       "      <th>0</th>\n",
       "      <td>TRỰC TIẾP CHỦ ĐẦU TƯ - BÁN CĂN HỘ 1PN GIÁ 4.2 ...</td>\n",
       "      <td>Dự án HaDo Centrosa Garden, Đường 3/2, Phường ...</td>\n",
       "      <td>4.24 tỷ</td>\n",
       "      <td>61 m²</td>\n",
       "      <td>Loại tin đăng:Bán căn hộ chung cư\\nĐịa chỉ:Dự ...</td>\n",
       "      <td>Tên dự án: HaDo Centrosa Garden· Xem dự án\\nCh...</td>\n",
       "    </tr>\n",
       "    <tr>\n",
       "      <th>1</th>\n",
       "      <td>PHÒNG KINH DOANH SANG NHƯỢNG DỰ ÁN HÀ ĐÔ ...</td>\n",
       "      <td>Dự án HaDo Centrosa Garden, Đường 3/2, Phường ...</td>\n",
       "      <td>6.8 tỷ</td>\n",
       "      <td>107 m²</td>\n",
       "      <td>Loại tin đăng:Bán căn hộ chung cư\\nĐịa chỉ:Dự ...</td>\n",
       "      <td>Tên dự án: HaDo Centrosa Garden· Xem dự án\\nCh...</td>\n",
       "    </tr>\n",
       "    <tr>\n",
       "      <th>2</th>\n",
       "      <td>SKY LINKED VILLAS LÀ MỘT KHÁI NIỆM LẠ VÀ ĐỘC N...</td>\n",
       "      <td>Dự án Celadon City, Tân Phú, Hồ Chí Minh</td>\n",
       "      <td>54 triệu</td>\n",
       "      <td>242 m²</td>\n",
       "      <td>Loại tin đăng:Bán căn hộ chung cư\\nĐịa chỉ:Dự ...</td>\n",
       "      <td>Tên dự án: Celadon City· Xem dự án\\nChủ đầu tư...</td>\n",
       "    </tr>\n",
       "    <tr>\n",
       "      <th>3</th>\n",
       "      <td>BIỆT THỰ SÂN GOLF ĐƯỜNG QL22, CỦ CHI, GIÁ CHỈ ...</td>\n",
       "      <td>Đường Quốc Lộ 22, Thị trấn Củ Chi, Củ Chi, Hồ ...</td>\n",
       "      <td>2.9 tỷ</td>\n",
       "      <td>300 m²</td>\n",
       "      <td>Loại tin đăng:Bán nhà riêng\\nĐịa chỉ:Đường Quố...</td>\n",
       "      <td>NaN</td>\n",
       "    </tr>\n",
       "    <tr>\n",
       "      <th>4</th>\n",
       "      <td>BÁN SHOPHOUSE CENTUM WEALTH COMPLEX QUẬN 9 DIỆ...</td>\n",
       "      <td>Dự án Centum Wealth, Đường Phan Chu Trinh, Phư...</td>\n",
       "      <td>Thỏa thuận</td>\n",
       "      <td>140 m²</td>\n",
       "      <td>Loại tin đăng:Bán loại bất động sản khác\\nĐịa ...</td>\n",
       "      <td>Tên dự án: Chung Cư Centum Wealth· Xem dự án</td>\n",
       "    </tr>\n",
       "  </tbody>\n",
       "</table>\n",
       "</div>"
      ],
      "text/plain": [
       "                                             Tiêu đề  \\\n",
       "0  TRỰC TIẾP CHỦ ĐẦU TƯ - BÁN CĂN HỘ 1PN GIÁ 4.2 ...   \n",
       "1  PHÒNG KINH DOANH SANG NHƯỢNG DỰ ÁN HÀ ĐÔ ...   \n",
       "2  SKY LINKED VILLAS LÀ MỘT KHÁI NIỆM LẠ VÀ ĐỘC N...   \n",
       "3  BIỆT THỰ SÂN GOLF ĐƯỜNG QL22, CỦ CHI, GIÁ CHỈ ...   \n",
       "4  BÁN SHOPHOUSE CENTUM WEALTH COMPLEX QUẬN 9 DIỆ...   \n",
       "\n",
       "                                           Chú thích         Giá Diện tích  \\\n",
       "0  Dự án HaDo Centrosa Garden, Đường 3/2, Phường ...     4.24 tỷ     61 m²   \n",
       "1  Dự án HaDo Centrosa Garden, Đường 3/2, Phường ...      6.8 tỷ    107 m²   \n",
       "2           Dự án Celadon City, Tân Phú, Hồ Chí Minh    54 triệu    242 m²   \n",
       "3  Đường Quốc Lộ 22, Thị trấn Củ Chi, Củ Chi, Hồ ...      2.9 tỷ    300 m²   \n",
       "4  Dự án Centum Wealth, Đường Phan Chu Trinh, Phư...  Thỏa thuận    140 m²   \n",
       "\n",
       "                               Đặc điểm bất động sản  \\\n",
       "0  Loại tin đăng:Bán căn hộ chung cư\\nĐịa chỉ:Dự ...   \n",
       "1  Loại tin đăng:Bán căn hộ chung cư\\nĐịa chỉ:Dự ...   \n",
       "2  Loại tin đăng:Bán căn hộ chung cư\\nĐịa chỉ:Dự ...   \n",
       "3  Loại tin đăng:Bán nhà riêng\\nĐịa chỉ:Đường Quố...   \n",
       "4  Loại tin đăng:Bán loại bất động sản khác\\nĐịa ...   \n",
       "\n",
       "                                     Thông tin dự án  \n",
       "0  Tên dự án: HaDo Centrosa Garden· Xem dự án\\nCh...  \n",
       "1  Tên dự án: HaDo Centrosa Garden· Xem dự án\\nCh...  \n",
       "2  Tên dự án: Celadon City· Xem dự án\\nChủ đầu tư...  \n",
       "3                                                NaN  \n",
       "4       Tên dự án: Chung Cư Centum Wealth· Xem dự án  "
      ]
     },
     "execution_count": 105,
     "metadata": {},
     "output_type": "execute_result"
    }
   ],
   "source": [
    "data = pd.read_csv('bds.csv')\n",
    "data[:5]"
   ]
  },
  {
   "cell_type": "markdown",
   "metadata": {},
   "source": [
    "### Tiền xử lý dữ liệu"
   ]
  },
  {
   "cell_type": "markdown",
   "metadata": {},
   "source": [
    "### Diện tích"
   ]
  },
  {
   "cell_type": "code",
   "execution_count": 106,
   "metadata": {},
   "outputs": [
    {
     "data": {
      "text/plain": [
       "0     61 m²\n",
       "1    107 m²\n",
       "2    242 m²\n",
       "3    300 m²\n",
       "4    140 m²\n",
       "Name: Diện tích, dtype: object"
      ]
     },
     "execution_count": 106,
     "metadata": {},
     "output_type": "execute_result"
    }
   ],
   "source": [
    "area = data['Diện tích']\n",
    "area[:5]"
   ]
  },
  {
   "cell_type": "code",
   "execution_count": 107,
   "metadata": {},
   "outputs": [],
   "source": [
    "for i in range(len(area)):\n",
    "    if ('m²' in area[i]):\n",
    "        area[i] = area[i].replace('m²', '')\n",
    "        area[i] = float(area[i])\n",
    "    else: \n",
    "        area[i] = 0"
   ]
  },
  {
   "cell_type": "code",
   "execution_count": 108,
   "metadata": {},
   "outputs": [],
   "source": [
    "data['Diện tích'] = area"
   ]
  },
  {
   "cell_type": "code",
   "execution_count": 109,
   "metadata": {},
   "outputs": [
    {
     "data": {
      "text/html": [
       "<div>\n",
       "<style scoped>\n",
       "    .dataframe tbody tr th:only-of-type {\n",
       "        vertical-align: middle;\n",
       "    }\n",
       "\n",
       "    .dataframe tbody tr th {\n",
       "        vertical-align: top;\n",
       "    }\n",
       "\n",
       "    .dataframe thead th {\n",
       "        text-align: right;\n",
       "    }\n",
       "</style>\n",
       "<table border=\"1\" class=\"dataframe\">\n",
       "  <thead>\n",
       "    <tr style=\"text-align: right;\">\n",
       "      <th></th>\n",
       "      <th>Tiêu đề</th>\n",
       "      <th>Chú thích</th>\n",
       "      <th>Giá</th>\n",
       "      <th>Diện tích</th>\n",
       "      <th>Đặc điểm bất động sản</th>\n",
       "      <th>Thông tin dự án</th>\n",
       "    </tr>\n",
       "  </thead>\n",
       "  <tbody>\n",
       "    <tr>\n",
       "      <th>0</th>\n",
       "      <td>TRỰC TIẾP CHỦ ĐẦU TƯ - BÁN CĂN HỘ 1PN GIÁ 4.2 ...</td>\n",
       "      <td>Dự án HaDo Centrosa Garden, Đường 3/2, Phường ...</td>\n",
       "      <td>4.24 tỷ</td>\n",
       "      <td>61</td>\n",
       "      <td>Loại tin đăng:Bán căn hộ chung cư\\nĐịa chỉ:Dự ...</td>\n",
       "      <td>Tên dự án: HaDo Centrosa Garden· Xem dự án\\nCh...</td>\n",
       "    </tr>\n",
       "    <tr>\n",
       "      <th>1</th>\n",
       "      <td>PHÒNG KINH DOANH SANG NHƯỢNG DỰ ÁN HÀ ĐÔ ...</td>\n",
       "      <td>Dự án HaDo Centrosa Garden, Đường 3/2, Phường ...</td>\n",
       "      <td>6.8 tỷ</td>\n",
       "      <td>107</td>\n",
       "      <td>Loại tin đăng:Bán căn hộ chung cư\\nĐịa chỉ:Dự ...</td>\n",
       "      <td>Tên dự án: HaDo Centrosa Garden· Xem dự án\\nCh...</td>\n",
       "    </tr>\n",
       "    <tr>\n",
       "      <th>2</th>\n",
       "      <td>SKY LINKED VILLAS LÀ MỘT KHÁI NIỆM LẠ VÀ ĐỘC N...</td>\n",
       "      <td>Dự án Celadon City, Tân Phú, Hồ Chí Minh</td>\n",
       "      <td>54 triệu</td>\n",
       "      <td>242</td>\n",
       "      <td>Loại tin đăng:Bán căn hộ chung cư\\nĐịa chỉ:Dự ...</td>\n",
       "      <td>Tên dự án: Celadon City· Xem dự án\\nChủ đầu tư...</td>\n",
       "    </tr>\n",
       "    <tr>\n",
       "      <th>3</th>\n",
       "      <td>BIỆT THỰ SÂN GOLF ĐƯỜNG QL22, CỦ CHI, GIÁ CHỈ ...</td>\n",
       "      <td>Đường Quốc Lộ 22, Thị trấn Củ Chi, Củ Chi, Hồ ...</td>\n",
       "      <td>2.9 tỷ</td>\n",
       "      <td>300</td>\n",
       "      <td>Loại tin đăng:Bán nhà riêng\\nĐịa chỉ:Đường Quố...</td>\n",
       "      <td>NaN</td>\n",
       "    </tr>\n",
       "    <tr>\n",
       "      <th>4</th>\n",
       "      <td>BÁN SHOPHOUSE CENTUM WEALTH COMPLEX QUẬN 9 DIỆ...</td>\n",
       "      <td>Dự án Centum Wealth, Đường Phan Chu Trinh, Phư...</td>\n",
       "      <td>Thỏa thuận</td>\n",
       "      <td>140</td>\n",
       "      <td>Loại tin đăng:Bán loại bất động sản khác\\nĐịa ...</td>\n",
       "      <td>Tên dự án: Chung Cư Centum Wealth· Xem dự án</td>\n",
       "    </tr>\n",
       "  </tbody>\n",
       "</table>\n",
       "</div>"
      ],
      "text/plain": [
       "                                             Tiêu đề  \\\n",
       "0  TRỰC TIẾP CHỦ ĐẦU TƯ - BÁN CĂN HỘ 1PN GIÁ 4.2 ...   \n",
       "1  PHÒNG KINH DOANH SANG NHƯỢNG DỰ ÁN HÀ ĐÔ ...   \n",
       "2  SKY LINKED VILLAS LÀ MỘT KHÁI NIỆM LẠ VÀ ĐỘC N...   \n",
       "3  BIỆT THỰ SÂN GOLF ĐƯỜNG QL22, CỦ CHI, GIÁ CHỈ ...   \n",
       "4  BÁN SHOPHOUSE CENTUM WEALTH COMPLEX QUẬN 9 DIỆ...   \n",
       "\n",
       "                                           Chú thích         Giá Diện tích  \\\n",
       "0  Dự án HaDo Centrosa Garden, Đường 3/2, Phường ...     4.24 tỷ        61   \n",
       "1  Dự án HaDo Centrosa Garden, Đường 3/2, Phường ...      6.8 tỷ       107   \n",
       "2           Dự án Celadon City, Tân Phú, Hồ Chí Minh    54 triệu       242   \n",
       "3  Đường Quốc Lộ 22, Thị trấn Củ Chi, Củ Chi, Hồ ...      2.9 tỷ       300   \n",
       "4  Dự án Centum Wealth, Đường Phan Chu Trinh, Phư...  Thỏa thuận       140   \n",
       "\n",
       "                               Đặc điểm bất động sản  \\\n",
       "0  Loại tin đăng:Bán căn hộ chung cư\\nĐịa chỉ:Dự ...   \n",
       "1  Loại tin đăng:Bán căn hộ chung cư\\nĐịa chỉ:Dự ...   \n",
       "2  Loại tin đăng:Bán căn hộ chung cư\\nĐịa chỉ:Dự ...   \n",
       "3  Loại tin đăng:Bán nhà riêng\\nĐịa chỉ:Đường Quố...   \n",
       "4  Loại tin đăng:Bán loại bất động sản khác\\nĐịa ...   \n",
       "\n",
       "                                     Thông tin dự án  \n",
       "0  Tên dự án: HaDo Centrosa Garden· Xem dự án\\nCh...  \n",
       "1  Tên dự án: HaDo Centrosa Garden· Xem dự án\\nCh...  \n",
       "2  Tên dự án: Celadon City· Xem dự án\\nChủ đầu tư...  \n",
       "3                                                NaN  \n",
       "4       Tên dự án: Chung Cư Centum Wealth· Xem dự án  "
      ]
     },
     "execution_count": 109,
     "metadata": {},
     "output_type": "execute_result"
    }
   ],
   "source": [
    "data[:5]"
   ]
  },
  {
   "cell_type": "code",
   "execution_count": 110,
   "metadata": {},
   "outputs": [],
   "source": [
    "index_names = data[ data['Diện tích'] == 0 ].index \n",
    "data.drop(index_names, inplace = True) "
   ]
  },
  {
   "cell_type": "code",
   "execution_count": 111,
   "metadata": {
    "scrolled": false
   },
   "outputs": [
    {
     "data": {
      "text/html": [
       "<div>\n",
       "<style scoped>\n",
       "    .dataframe tbody tr th:only-of-type {\n",
       "        vertical-align: middle;\n",
       "    }\n",
       "\n",
       "    .dataframe tbody tr th {\n",
       "        vertical-align: top;\n",
       "    }\n",
       "\n",
       "    .dataframe thead th {\n",
       "        text-align: right;\n",
       "    }\n",
       "</style>\n",
       "<table border=\"1\" class=\"dataframe\">\n",
       "  <thead>\n",
       "    <tr style=\"text-align: right;\">\n",
       "      <th></th>\n",
       "      <th>Tiêu đề</th>\n",
       "      <th>Chú thích</th>\n",
       "      <th>Giá</th>\n",
       "      <th>Diện tích</th>\n",
       "      <th>Đặc điểm bất động sản</th>\n",
       "      <th>Thông tin dự án</th>\n",
       "    </tr>\n",
       "  </thead>\n",
       "  <tbody>\n",
       "    <tr>\n",
       "      <th>0</th>\n",
       "      <td>TRỰC TIẾP CHỦ ĐẦU TƯ - BÁN CĂN HỘ 1PN GIÁ 4.2 ...</td>\n",
       "      <td>Dự án HaDo Centrosa Garden, Đường 3/2, Phường ...</td>\n",
       "      <td>4.24 tỷ</td>\n",
       "      <td>61</td>\n",
       "      <td>Loại tin đăng:Bán căn hộ chung cư\\nĐịa chỉ:Dự ...</td>\n",
       "      <td>Tên dự án: HaDo Centrosa Garden· Xem dự án\\nCh...</td>\n",
       "    </tr>\n",
       "    <tr>\n",
       "      <th>1</th>\n",
       "      <td>PHÒNG KINH DOANH SANG NHƯỢNG DỰ ÁN HÀ ĐÔ ...</td>\n",
       "      <td>Dự án HaDo Centrosa Garden, Đường 3/2, Phường ...</td>\n",
       "      <td>6.8 tỷ</td>\n",
       "      <td>107</td>\n",
       "      <td>Loại tin đăng:Bán căn hộ chung cư\\nĐịa chỉ:Dự ...</td>\n",
       "      <td>Tên dự án: HaDo Centrosa Garden· Xem dự án\\nCh...</td>\n",
       "    </tr>\n",
       "    <tr>\n",
       "      <th>2</th>\n",
       "      <td>SKY LINKED VILLAS LÀ MỘT KHÁI NIỆM LẠ VÀ ĐỘC N...</td>\n",
       "      <td>Dự án Celadon City, Tân Phú, Hồ Chí Minh</td>\n",
       "      <td>54 triệu</td>\n",
       "      <td>242</td>\n",
       "      <td>Loại tin đăng:Bán căn hộ chung cư\\nĐịa chỉ:Dự ...</td>\n",
       "      <td>Tên dự án: Celadon City· Xem dự án\\nChủ đầu tư...</td>\n",
       "    </tr>\n",
       "    <tr>\n",
       "      <th>3</th>\n",
       "      <td>BIỆT THỰ SÂN GOLF ĐƯỜNG QL22, CỦ CHI, GIÁ CHỈ ...</td>\n",
       "      <td>Đường Quốc Lộ 22, Thị trấn Củ Chi, Củ Chi, Hồ ...</td>\n",
       "      <td>2.9 tỷ</td>\n",
       "      <td>300</td>\n",
       "      <td>Loại tin đăng:Bán nhà riêng\\nĐịa chỉ:Đường Quố...</td>\n",
       "      <td>NaN</td>\n",
       "    </tr>\n",
       "    <tr>\n",
       "      <th>4</th>\n",
       "      <td>BÁN SHOPHOUSE CENTUM WEALTH COMPLEX QUẬN 9 DIỆ...</td>\n",
       "      <td>Dự án Centum Wealth, Đường Phan Chu Trinh, Phư...</td>\n",
       "      <td>Thỏa thuận</td>\n",
       "      <td>140</td>\n",
       "      <td>Loại tin đăng:Bán loại bất động sản khác\\nĐịa ...</td>\n",
       "      <td>Tên dự án: Chung Cư Centum Wealth· Xem dự án</td>\n",
       "    </tr>\n",
       "  </tbody>\n",
       "</table>\n",
       "</div>"
      ],
      "text/plain": [
       "                                             Tiêu đề  \\\n",
       "0  TRỰC TIẾP CHỦ ĐẦU TƯ - BÁN CĂN HỘ 1PN GIÁ 4.2 ...   \n",
       "1  PHÒNG KINH DOANH SANG NHƯỢNG DỰ ÁN HÀ ĐÔ ...   \n",
       "2  SKY LINKED VILLAS LÀ MỘT KHÁI NIỆM LẠ VÀ ĐỘC N...   \n",
       "3  BIỆT THỰ SÂN GOLF ĐƯỜNG QL22, CỦ CHI, GIÁ CHỈ ...   \n",
       "4  BÁN SHOPHOUSE CENTUM WEALTH COMPLEX QUẬN 9 DIỆ...   \n",
       "\n",
       "                                           Chú thích         Giá Diện tích  \\\n",
       "0  Dự án HaDo Centrosa Garden, Đường 3/2, Phường ...     4.24 tỷ        61   \n",
       "1  Dự án HaDo Centrosa Garden, Đường 3/2, Phường ...      6.8 tỷ       107   \n",
       "2           Dự án Celadon City, Tân Phú, Hồ Chí Minh    54 triệu       242   \n",
       "3  Đường Quốc Lộ 22, Thị trấn Củ Chi, Củ Chi, Hồ ...      2.9 tỷ       300   \n",
       "4  Dự án Centum Wealth, Đường Phan Chu Trinh, Phư...  Thỏa thuận       140   \n",
       "\n",
       "                               Đặc điểm bất động sản  \\\n",
       "0  Loại tin đăng:Bán căn hộ chung cư\\nĐịa chỉ:Dự ...   \n",
       "1  Loại tin đăng:Bán căn hộ chung cư\\nĐịa chỉ:Dự ...   \n",
       "2  Loại tin đăng:Bán căn hộ chung cư\\nĐịa chỉ:Dự ...   \n",
       "3  Loại tin đăng:Bán nhà riêng\\nĐịa chỉ:Đường Quố...   \n",
       "4  Loại tin đăng:Bán loại bất động sản khác\\nĐịa ...   \n",
       "\n",
       "                                     Thông tin dự án  \n",
       "0  Tên dự án: HaDo Centrosa Garden· Xem dự án\\nCh...  \n",
       "1  Tên dự án: HaDo Centrosa Garden· Xem dự án\\nCh...  \n",
       "2  Tên dự án: Celadon City· Xem dự án\\nChủ đầu tư...  \n",
       "3                                                NaN  \n",
       "4       Tên dự án: Chung Cư Centum Wealth· Xem dự án  "
      ]
     },
     "execution_count": 111,
     "metadata": {},
     "output_type": "execute_result"
    }
   ],
   "source": [
    "data[:5]"
   ]
  },
  {
   "cell_type": "markdown",
   "metadata": {},
   "source": [
    "### Giá"
   ]
  },
  {
   "cell_type": "code",
   "execution_count": 112,
   "metadata": {},
   "outputs": [],
   "source": [
    "index_names = data[data['Chú thích'].str.find('Hồ Chí Minh') == -1 ].index \n",
    "data.drop(index_names, inplace = True) "
   ]
  },
  {
   "cell_type": "code",
   "execution_count": 113,
   "metadata": {},
   "outputs": [],
   "source": [
    "index_names = data[data['Giá'].str.find('Thỏa thuận') != -1 ].index \n",
    "data.drop(index_names, inplace = True) "
   ]
  },
  {
   "cell_type": "code",
   "execution_count": 114,
   "metadata": {},
   "outputs": [],
   "source": [
    "index_names = data[data['Giá'].str.find('triệu') != -1 ].index \n",
    "data.drop(index_names, inplace = True) "
   ]
  },
  {
   "cell_type": "code",
   "execution_count": 115,
   "metadata": {},
   "outputs": [
    {
     "data": {
      "text/html": [
       "<div>\n",
       "<style scoped>\n",
       "    .dataframe tbody tr th:only-of-type {\n",
       "        vertical-align: middle;\n",
       "    }\n",
       "\n",
       "    .dataframe tbody tr th {\n",
       "        vertical-align: top;\n",
       "    }\n",
       "\n",
       "    .dataframe thead th {\n",
       "        text-align: right;\n",
       "    }\n",
       "</style>\n",
       "<table border=\"1\" class=\"dataframe\">\n",
       "  <thead>\n",
       "    <tr style=\"text-align: right;\">\n",
       "      <th></th>\n",
       "      <th>Tiêu đề</th>\n",
       "      <th>Chú thích</th>\n",
       "      <th>Giá</th>\n",
       "      <th>Diện tích</th>\n",
       "      <th>Đặc điểm bất động sản</th>\n",
       "      <th>Thông tin dự án</th>\n",
       "    </tr>\n",
       "  </thead>\n",
       "  <tbody>\n",
       "    <tr>\n",
       "      <th>0</th>\n",
       "      <td>TRỰC TIẾP CHỦ ĐẦU TƯ - BÁN CĂN HỘ 1PN GIÁ 4.2 ...</td>\n",
       "      <td>Dự án HaDo Centrosa Garden, Đường 3/2, Phường ...</td>\n",
       "      <td>4.24</td>\n",
       "      <td>61</td>\n",
       "      <td>Loại tin đăng:Bán căn hộ chung cư\\nĐịa chỉ:Dự ...</td>\n",
       "      <td>Tên dự án: HaDo Centrosa Garden· Xem dự án\\nCh...</td>\n",
       "    </tr>\n",
       "    <tr>\n",
       "      <th>1</th>\n",
       "      <td>PHÒNG KINH DOANH SANG NHƯỢNG DỰ ÁN HÀ ĐÔ ...</td>\n",
       "      <td>Dự án HaDo Centrosa Garden, Đường 3/2, Phường ...</td>\n",
       "      <td>6.8</td>\n",
       "      <td>107</td>\n",
       "      <td>Loại tin đăng:Bán căn hộ chung cư\\nĐịa chỉ:Dự ...</td>\n",
       "      <td>Tên dự án: HaDo Centrosa Garden· Xem dự án\\nCh...</td>\n",
       "    </tr>\n",
       "    <tr>\n",
       "      <th>3</th>\n",
       "      <td>BIỆT THỰ SÂN GOLF ĐƯỜNG QL22, CỦ CHI, GIÁ CHỈ ...</td>\n",
       "      <td>Đường Quốc Lộ 22, Thị trấn Củ Chi, Củ Chi, Hồ ...</td>\n",
       "      <td>2.9</td>\n",
       "      <td>300</td>\n",
       "      <td>Loại tin đăng:Bán nhà riêng\\nĐịa chỉ:Đường Quố...</td>\n",
       "      <td>NaN</td>\n",
       "    </tr>\n",
       "    <tr>\n",
       "      <th>5</th>\n",
       "      <td>CH PROSPER PLAZA FULL NT NHƯ HÌNH 65M2 GIÁ 2.2...</td>\n",
       "      <td>Dự án Prosper Plaza, Đường Phan Văn Hớn, Phườn...</td>\n",
       "      <td>1.85</td>\n",
       "      <td>50</td>\n",
       "      <td>Loại tin đăng:Bán căn hộ chung cư\\nĐịa chỉ:Dự ...</td>\n",
       "      <td>Tên dự án: Prosper Plaza· Xem dự án\\nQuy mô:Gồ...</td>\n",
       "    </tr>\n",
       "    <tr>\n",
       "      <th>6</th>\n",
       "      <td>CHÍNH CHỦ CẦN BÁN GẤP CH CITI ESTO Q2 - DT: 56...</td>\n",
       "      <td>Dự án Citi Esto, Đường Nguyễn Thị Định, Phường...</td>\n",
       "      <td>1.6</td>\n",
       "      <td>56</td>\n",
       "      <td>Loại tin đăng:Bán căn hộ chung cư\\nĐịa chỉ:Dự ...</td>\n",
       "      <td>Tên dự án: Citi Esto· Xem dự án\\nChủ đầu tư:Cô...</td>\n",
       "    </tr>\n",
       "  </tbody>\n",
       "</table>\n",
       "</div>"
      ],
      "text/plain": [
       "                                             Tiêu đề  \\\n",
       "0  TRỰC TIẾP CHỦ ĐẦU TƯ - BÁN CĂN HỘ 1PN GIÁ 4.2 ...   \n",
       "1  PHÒNG KINH DOANH SANG NHƯỢNG DỰ ÁN HÀ ĐÔ ...   \n",
       "3  BIỆT THỰ SÂN GOLF ĐƯỜNG QL22, CỦ CHI, GIÁ CHỈ ...   \n",
       "5  CH PROSPER PLAZA FULL NT NHƯ HÌNH 65M2 GIÁ 2.2...   \n",
       "6  CHÍNH CHỦ CẦN BÁN GẤP CH CITI ESTO Q2 - DT: 56...   \n",
       "\n",
       "                                           Chú thích    Giá Diện tích  \\\n",
       "0  Dự án HaDo Centrosa Garden, Đường 3/2, Phường ...  4.24         61   \n",
       "1  Dự án HaDo Centrosa Garden, Đường 3/2, Phường ...   6.8        107   \n",
       "3  Đường Quốc Lộ 22, Thị trấn Củ Chi, Củ Chi, Hồ ...   2.9        300   \n",
       "5  Dự án Prosper Plaza, Đường Phan Văn Hớn, Phườn...  1.85         50   \n",
       "6  Dự án Citi Esto, Đường Nguyễn Thị Định, Phường...   1.6         56   \n",
       "\n",
       "                               Đặc điểm bất động sản  \\\n",
       "0  Loại tin đăng:Bán căn hộ chung cư\\nĐịa chỉ:Dự ...   \n",
       "1  Loại tin đăng:Bán căn hộ chung cư\\nĐịa chỉ:Dự ...   \n",
       "3  Loại tin đăng:Bán nhà riêng\\nĐịa chỉ:Đường Quố...   \n",
       "5  Loại tin đăng:Bán căn hộ chung cư\\nĐịa chỉ:Dự ...   \n",
       "6  Loại tin đăng:Bán căn hộ chung cư\\nĐịa chỉ:Dự ...   \n",
       "\n",
       "                                     Thông tin dự án  \n",
       "0  Tên dự án: HaDo Centrosa Garden· Xem dự án\\nCh...  \n",
       "1  Tên dự án: HaDo Centrosa Garden· Xem dự án\\nCh...  \n",
       "3                                                NaN  \n",
       "5  Tên dự án: Prosper Plaza· Xem dự án\\nQuy mô:Gồ...  \n",
       "6  Tên dự án: Citi Esto· Xem dự án\\nChủ đầu tư:Cô...  "
      ]
     },
     "execution_count": 115,
     "metadata": {},
     "output_type": "execute_result"
    }
   ],
   "source": [
    "data['Giá'] = data['Giá'].replace('tỷ', '', regex = True)\n",
    "data[:5]"
   ]
  },
  {
   "cell_type": "markdown",
   "metadata": {},
   "source": [
    "### Quận"
   ]
  },
  {
   "cell_type": "code",
   "execution_count": 116,
   "metadata": {},
   "outputs": [],
   "source": [
    "district = ['Quận 1', 'Quận 2', 'Quận 3', 'Quận 4', 'Quận 5', 'Quận 6', 'Quận 7', 'Quận 8', 'Quận 9', 'Quận 10',\n",
    "           'Quận 11', 'Quận 12', 'Thủ Đức', 'Tân Phú', 'Tân Bình', 'Bình Tân', 'Bình Thạnh']"
   ]
  },
  {
   "cell_type": "code",
   "execution_count": 117,
   "metadata": {},
   "outputs": [],
   "source": [
    "data = data.fillna('')"
   ]
  },
  {
   "cell_type": "code",
   "execution_count": 118,
   "metadata": {},
   "outputs": [],
   "source": [
    "def split_project_detail(project_name, project_size, investors):\n",
    "    detail = data['Thông tin dự án'] \n",
    "\n",
    "    for temp in detail:\n",
    "        if (temp != ''):\n",
    "            matches = re.findall(r'.+?· Xem dự án',temp);\n",
    "            matches[0] = matches[0].replace('· Xem dự án', '').replace('Tên dự án: ',  '')\n",
    "            project_name.append(matches[0])\n",
    "\n",
    "            size = re.findall(r'Quy mô:.+', temp);\n",
    "            size[0] = size[0].replace('Quy mô:', '')\n",
    "            project_size.append(size[0])\n",
    "\n",
    "            investor = re.findall(r'Chủ đầu tư:.+',temp);\n",
    "            if (len(investor)):\n",
    "                investor[0] = investor[0].replace('Chủ đầu tư:', '')\n",
    "                investors.append(investor[0])\n",
    "            else:\n",
    "                investors.append('')\n",
    "        else:\n",
    "            project_name.append('')\n",
    "            project_size.append('')\n",
    "            investors.append('')"
   ]
  },
  {
   "cell_type": "code",
   "execution_count": 119,
   "metadata": {},
   "outputs": [],
   "source": [
    "project_name = []\n",
    "project_size = []\n",
    "investors = []\n",
    "split_project_detail(project_name, project_size, investors)"
   ]
  },
  {
   "cell_type": "code",
   "execution_count": 120,
   "metadata": {},
   "outputs": [],
   "source": [
    "data['Quy mô'] = project_size\n",
    "data['Tên dự án'] = project_name\n",
    "data['Chủ đầu tư'] = investors"
   ]
  },
  {
   "cell_type": "code",
   "execution_count": 121,
   "metadata": {
    "scrolled": true
   },
   "outputs": [
    {
     "data": {
      "text/html": [
       "<div>\n",
       "<style scoped>\n",
       "    .dataframe tbody tr th:only-of-type {\n",
       "        vertical-align: middle;\n",
       "    }\n",
       "\n",
       "    .dataframe tbody tr th {\n",
       "        vertical-align: top;\n",
       "    }\n",
       "\n",
       "    .dataframe thead th {\n",
       "        text-align: right;\n",
       "    }\n",
       "</style>\n",
       "<table border=\"1\" class=\"dataframe\">\n",
       "  <thead>\n",
       "    <tr style=\"text-align: right;\">\n",
       "      <th></th>\n",
       "      <th>Tiêu đề</th>\n",
       "      <th>Chú thích</th>\n",
       "      <th>Giá</th>\n",
       "      <th>Diện tích</th>\n",
       "      <th>Đặc điểm bất động sản</th>\n",
       "      <th>Thông tin dự án</th>\n",
       "      <th>Quy mô</th>\n",
       "      <th>Tên dự án</th>\n",
       "      <th>Chủ đầu tư</th>\n",
       "    </tr>\n",
       "  </thead>\n",
       "  <tbody>\n",
       "    <tr>\n",
       "      <th>0</th>\n",
       "      <td>TRỰC TIẾP CHỦ ĐẦU TƯ - BÁN CĂN HỘ 1PN GIÁ 4.2 ...</td>\n",
       "      <td>Dự án HaDo Centrosa Garden, Đường 3/2, Phường ...</td>\n",
       "      <td>4.24</td>\n",
       "      <td>61.0</td>\n",
       "      <td>Loại tin đăng:Bán căn hộ chung cư\\nĐịa chỉ:Dự ...</td>\n",
       "      <td>Tên dự án: HaDo Centrosa Garden· Xem dự án\\nCh...</td>\n",
       "      <td>Gồm: căn hộ cao cấp, nhà phố, biệt thự liền kề</td>\n",
       "      <td>HaDo Centrosa Garden</td>\n",
       "      <td>Tập đoàn Hà Đô</td>\n",
       "    </tr>\n",
       "    <tr>\n",
       "      <th>1</th>\n",
       "      <td>PHÒNG KINH DOANH SANG NHƯỢNG DỰ ÁN HÀ ĐÔ ...</td>\n",
       "      <td>Dự án HaDo Centrosa Garden, Đường 3/2, Phường ...</td>\n",
       "      <td>6.8</td>\n",
       "      <td>107.0</td>\n",
       "      <td>Loại tin đăng:Bán căn hộ chung cư\\nĐịa chỉ:Dự ...</td>\n",
       "      <td>Tên dự án: HaDo Centrosa Garden· Xem dự án\\nCh...</td>\n",
       "      <td>Gồm: căn hộ cao cấp, nhà phố, biệt thự liền kề</td>\n",
       "      <td>HaDo Centrosa Garden</td>\n",
       "      <td>Tập đoàn Hà Đô</td>\n",
       "    </tr>\n",
       "    <tr>\n",
       "      <th>3</th>\n",
       "      <td>BIỆT THỰ SÂN GOLF ĐƯỜNG QL22, CỦ CHI, GIÁ CHỈ ...</td>\n",
       "      <td>Đường Quốc Lộ 22, Thị trấn Củ Chi, Củ Chi, Hồ ...</td>\n",
       "      <td>2.9</td>\n",
       "      <td>300.0</td>\n",
       "      <td>Loại tin đăng:Bán nhà riêng\\nĐịa chỉ:Đường Quố...</td>\n",
       "      <td></td>\n",
       "      <td></td>\n",
       "      <td></td>\n",
       "      <td></td>\n",
       "    </tr>\n",
       "    <tr>\n",
       "      <th>5</th>\n",
       "      <td>CH PROSPER PLAZA FULL NT NHƯ HÌNH 65M2 GIÁ 2.2...</td>\n",
       "      <td>Dự án Prosper Plaza, Đường Phan Văn Hớn, Phườn...</td>\n",
       "      <td>1.85</td>\n",
       "      <td>50.0</td>\n",
       "      <td>Loại tin đăng:Bán căn hộ chung cư\\nĐịa chỉ:Dự ...</td>\n",
       "      <td>Tên dự án: Prosper Plaza· Xem dự án\\nQuy mô:Gồ...</td>\n",
       "      <td>Gồm 1552 căn hộ và 75 Shophouse</td>\n",
       "      <td>Prosper Plaza</td>\n",
       "      <td></td>\n",
       "    </tr>\n",
       "    <tr>\n",
       "      <th>6</th>\n",
       "      <td>CHÍNH CHỦ CẦN BÁN GẤP CH CITI ESTO Q2 - DT: 56...</td>\n",
       "      <td>Dự án Citi Esto, Đường Nguyễn Thị Định, Phường...</td>\n",
       "      <td>1.6</td>\n",
       "      <td>56.0</td>\n",
       "      <td>Loại tin đăng:Bán căn hộ chung cư\\nĐịa chỉ:Dự ...</td>\n",
       "      <td>Tên dự án: Citi Esto· Xem dự án\\nChủ đầu tư:Cô...</td>\n",
       "      <td>Gồm 2 block 25 tầng</td>\n",
       "      <td>Citi Esto</td>\n",
       "      <td>Công ty Cổ phần Kiến Á</td>\n",
       "    </tr>\n",
       "  </tbody>\n",
       "</table>\n",
       "</div>"
      ],
      "text/plain": [
       "                                             Tiêu đề  \\\n",
       "0  TRỰC TIẾP CHỦ ĐẦU TƯ - BÁN CĂN HỘ 1PN GIÁ 4.2 ...   \n",
       "1  PHÒNG KINH DOANH SANG NHƯỢNG DỰ ÁN HÀ ĐÔ ...   \n",
       "3  BIỆT THỰ SÂN GOLF ĐƯỜNG QL22, CỦ CHI, GIÁ CHỈ ...   \n",
       "5  CH PROSPER PLAZA FULL NT NHƯ HÌNH 65M2 GIÁ 2.2...   \n",
       "6  CHÍNH CHỦ CẦN BÁN GẤP CH CITI ESTO Q2 - DT: 56...   \n",
       "\n",
       "                                           Chú thích    Giá  Diện tích  \\\n",
       "0  Dự án HaDo Centrosa Garden, Đường 3/2, Phường ...  4.24        61.0   \n",
       "1  Dự án HaDo Centrosa Garden, Đường 3/2, Phường ...   6.8       107.0   \n",
       "3  Đường Quốc Lộ 22, Thị trấn Củ Chi, Củ Chi, Hồ ...   2.9       300.0   \n",
       "5  Dự án Prosper Plaza, Đường Phan Văn Hớn, Phườn...  1.85        50.0   \n",
       "6  Dự án Citi Esto, Đường Nguyễn Thị Định, Phường...   1.6        56.0   \n",
       "\n",
       "                               Đặc điểm bất động sản  \\\n",
       "0  Loại tin đăng:Bán căn hộ chung cư\\nĐịa chỉ:Dự ...   \n",
       "1  Loại tin đăng:Bán căn hộ chung cư\\nĐịa chỉ:Dự ...   \n",
       "3  Loại tin đăng:Bán nhà riêng\\nĐịa chỉ:Đường Quố...   \n",
       "5  Loại tin đăng:Bán căn hộ chung cư\\nĐịa chỉ:Dự ...   \n",
       "6  Loại tin đăng:Bán căn hộ chung cư\\nĐịa chỉ:Dự ...   \n",
       "\n",
       "                                     Thông tin dự án  \\\n",
       "0  Tên dự án: HaDo Centrosa Garden· Xem dự án\\nCh...   \n",
       "1  Tên dự án: HaDo Centrosa Garden· Xem dự án\\nCh...   \n",
       "3                                                      \n",
       "5  Tên dự án: Prosper Plaza· Xem dự án\\nQuy mô:Gồ...   \n",
       "6  Tên dự án: Citi Esto· Xem dự án\\nChủ đầu tư:Cô...   \n",
       "\n",
       "                                           Quy mô             Tên dự án  \\\n",
       "0  Gồm: căn hộ cao cấp, nhà phố, biệt thự liền kề  HaDo Centrosa Garden   \n",
       "1  Gồm: căn hộ cao cấp, nhà phố, biệt thự liền kề  HaDo Centrosa Garden   \n",
       "3                                                                         \n",
       "5                 Gồm 1552 căn hộ và 75 Shophouse         Prosper Plaza   \n",
       "6                           Gồm 2 block 25 tầng             Citi Esto   \n",
       "\n",
       "               Chủ đầu tư  \n",
       "0          Tập đoàn Hà Đô  \n",
       "1          Tập đoàn Hà Đô  \n",
       "3                          \n",
       "5                          \n",
       "6  Công ty Cổ phần Kiến Á  "
      ]
     },
     "execution_count": 121,
     "metadata": {},
     "output_type": "execute_result"
    }
   ],
   "source": [
    "data[:5]"
   ]
  },
  {
   "cell_type": "markdown",
   "metadata": {},
   "source": [
    "## Đặc điểm bất động sản"
   ]
  },
  {
   "cell_type": "code",
   "execution_count": 122,
   "metadata": {},
   "outputs": [
    {
     "data": {
      "text/plain": [
       "0    Loại tin đăng:Bán căn hộ chung cư\\nĐịa chỉ:Dự ...\n",
       "1    Loại tin đăng:Bán căn hộ chung cư\\nĐịa chỉ:Dự ...\n",
       "3    Loại tin đăng:Bán nhà riêng\\nĐịa chỉ:Đường Quố...\n",
       "5    Loại tin đăng:Bán căn hộ chung cư\\nĐịa chỉ:Dự ...\n",
       "6    Loại tin đăng:Bán căn hộ chung cư\\nĐịa chỉ:Dự ...\n",
       "Name: Đặc điểm bất động sản, dtype: object"
      ]
     },
     "execution_count": 122,
     "metadata": {},
     "output_type": "execute_result"
    }
   ],
   "source": [
    "features = data['Đặc điểm bất động sản']\n",
    "features[:5]"
   ]
  },
  {
   "cell_type": "code",
   "execution_count": 123,
   "metadata": {},
   "outputs": [],
   "source": [
    "post_types = []\n",
    "addresses = []\n",
    "bedroom_nums = []\n",
    "toilet_nums = []\n",
    "furnitures = []\n",
    "policies = []\n",
    "\n",
    "\n",
    "for feature in features:\n",
    "    if (feature != ''):\n",
    "        post_type = re.findall(r'Loại tin đăng:.+', feature);\n",
    "        post_type[0] = post_type[0].replace('Loại tin đăng:', '')\n",
    "        post_types.append(post_type[0])\n",
    "\n",
    "        address = re.findall(r'Địa chỉ:.+', feature);\n",
    "        address[0] = address[0].replace('Địa chỉ:', '')\n",
    "        addresses.append(address[0])\n",
    "\n",
    "        bedroom_num = re.findall(r'Số phòng ngủ:.+', feature);\n",
    "        if (len(bedroom_num)):\n",
    "            bedroom_num[0] = bedroom_num[0].replace('Số phòng ngủ:', '').replace('(phòng)', '')\n",
    "            bedroom_nums.append(bedroom_num[0])\n",
    "        else:\n",
    "            bedroom_nums.append(0)\n",
    "            \n",
    "        toilet_num = re.findall(r'Số toilet:.+', feature);\n",
    "        if (len(toilet_num)):\n",
    "            toilet_num[0] = toilet_num[0].replace('Số toilet:', '').replace('(phòng)', '')\n",
    "            toilet_nums.append(toilet_num[0])\n",
    "        else:\n",
    "            toilet_nums.append(0)\n",
    "        \n",
    "        furniture = re.findall(r'Nội thất:.+', feature);\n",
    "        if (len(furniture)):\n",
    "            furniture[0] = furniture[0].replace('Nội thất:', '')\n",
    "            furnitures.append('1')\n",
    "        else:\n",
    "            furnitures.append('0')\n",
    "        \n",
    "        policy = re.findall(r'Pháp lý:.+', feature);\n",
    "        if (len(policy)):\n",
    "            policy[0] = policy[0].replace('Pháp lý:', '')\n",
    "            policies.append('1')\n",
    "        else:\n",
    "            policies.append('0')\n",
    "    else:\n",
    "        post_types.append('')\n",
    "        addresses.append('')\n",
    "        bedroom_nums.append(0)\n",
    "        toilet_nums.append(0)\n",
    "        furnitures.append('0')\n",
    "        policies.append('0')"
   ]
  },
  {
   "cell_type": "code",
   "execution_count": 124,
   "metadata": {},
   "outputs": [],
   "source": [
    "data['Loại tin đăng'] = post_types\n",
    "data['Địa chỉ'] = addresses\n",
    "data['Số phòng ngủ'] = bedroom_nums\n",
    "data['Số toilet'] = toilet_nums\n",
    "data['Nội thất'] = furnitures\n",
    "data['Pháp lý'] = policies"
   ]
  },
  {
   "cell_type": "code",
   "execution_count": 125,
   "metadata": {},
   "outputs": [
    {
     "data": {
      "text/html": [
       "<div>\n",
       "<style scoped>\n",
       "    .dataframe tbody tr th:only-of-type {\n",
       "        vertical-align: middle;\n",
       "    }\n",
       "\n",
       "    .dataframe tbody tr th {\n",
       "        vertical-align: top;\n",
       "    }\n",
       "\n",
       "    .dataframe thead th {\n",
       "        text-align: right;\n",
       "    }\n",
       "</style>\n",
       "<table border=\"1\" class=\"dataframe\">\n",
       "  <thead>\n",
       "    <tr style=\"text-align: right;\">\n",
       "      <th></th>\n",
       "      <th>Tiêu đề</th>\n",
       "      <th>Chú thích</th>\n",
       "      <th>Giá</th>\n",
       "      <th>Diện tích</th>\n",
       "      <th>Quy mô</th>\n",
       "      <th>Tên dự án</th>\n",
       "      <th>Chủ đầu tư</th>\n",
       "      <th>Loại tin đăng</th>\n",
       "      <th>Địa chỉ</th>\n",
       "      <th>Số phòng ngủ</th>\n",
       "      <th>Số toilet</th>\n",
       "      <th>Nội thất</th>\n",
       "      <th>Pháp lý</th>\n",
       "    </tr>\n",
       "  </thead>\n",
       "  <tbody>\n",
       "    <tr>\n",
       "      <th>0</th>\n",
       "      <td>TRỰC TIẾP CHỦ ĐẦU TƯ - BÁN CĂN HỘ 1PN GIÁ 4.2 ...</td>\n",
       "      <td>Dự án HaDo Centrosa Garden, Đường 3/2, Phường ...</td>\n",
       "      <td>4.24</td>\n",
       "      <td>61.0</td>\n",
       "      <td>Gồm: căn hộ cao cấp, nhà phố, biệt thự liền kề</td>\n",
       "      <td>HaDo Centrosa Garden</td>\n",
       "      <td>Tập đoàn Hà Đô</td>\n",
       "      <td>Bán căn hộ chung cư</td>\n",
       "      <td>Dự án HaDo Centrosa Garden, Đường 3/2, Phường ...</td>\n",
       "      <td>1</td>\n",
       "      <td>1</td>\n",
       "      <td>0</td>\n",
       "      <td>0</td>\n",
       "    </tr>\n",
       "    <tr>\n",
       "      <th>1</th>\n",
       "      <td>PHÒNG KINH DOANH SANG NHƯỢNG DỰ ÁN HÀ ĐÔ ...</td>\n",
       "      <td>Dự án HaDo Centrosa Garden, Đường 3/2, Phường ...</td>\n",
       "      <td>6.8</td>\n",
       "      <td>107.0</td>\n",
       "      <td>Gồm: căn hộ cao cấp, nhà phố, biệt thự liền kề</td>\n",
       "      <td>HaDo Centrosa Garden</td>\n",
       "      <td>Tập đoàn Hà Đô</td>\n",
       "      <td>Bán căn hộ chung cư</td>\n",
       "      <td>Dự án HaDo Centrosa Garden, Đường 3/2, Phường ...</td>\n",
       "      <td>2</td>\n",
       "      <td>0</td>\n",
       "      <td>0</td>\n",
       "      <td>0</td>\n",
       "    </tr>\n",
       "    <tr>\n",
       "      <th>3</th>\n",
       "      <td>BIỆT THỰ SÂN GOLF ĐƯỜNG QL22, CỦ CHI, GIÁ CHỈ ...</td>\n",
       "      <td>Đường Quốc Lộ 22, Thị trấn Củ Chi, Củ Chi, Hồ ...</td>\n",
       "      <td>2.9</td>\n",
       "      <td>300.0</td>\n",
       "      <td></td>\n",
       "      <td></td>\n",
       "      <td></td>\n",
       "      <td>Bán nhà riêng</td>\n",
       "      <td>Đường Quốc Lộ 22, Thị trấn Củ Chi, Củ Chi, Hồ ...</td>\n",
       "      <td>4</td>\n",
       "      <td>5</td>\n",
       "      <td>1</td>\n",
       "      <td>1</td>\n",
       "    </tr>\n",
       "    <tr>\n",
       "      <th>5</th>\n",
       "      <td>CH PROSPER PLAZA FULL NT NHƯ HÌNH 65M2 GIÁ 2.2...</td>\n",
       "      <td>Dự án Prosper Plaza, Đường Phan Văn Hớn, Phườn...</td>\n",
       "      <td>1.85</td>\n",
       "      <td>50.0</td>\n",
       "      <td>Gồm 1552 căn hộ và 75 Shophouse</td>\n",
       "      <td>Prosper Plaza</td>\n",
       "      <td></td>\n",
       "      <td>Bán căn hộ chung cư</td>\n",
       "      <td>Dự án Prosper Plaza, Đường Phan Văn Hớn, Phườn...</td>\n",
       "      <td>2</td>\n",
       "      <td>2</td>\n",
       "      <td>0</td>\n",
       "      <td>0</td>\n",
       "    </tr>\n",
       "    <tr>\n",
       "      <th>6</th>\n",
       "      <td>CHÍNH CHỦ CẦN BÁN GẤP CH CITI ESTO Q2 - DT: 56...</td>\n",
       "      <td>Dự án Citi Esto, Đường Nguyễn Thị Định, Phường...</td>\n",
       "      <td>1.6</td>\n",
       "      <td>56.0</td>\n",
       "      <td>Gồm 2 block 25 tầng</td>\n",
       "      <td>Citi Esto</td>\n",
       "      <td>Công ty Cổ phần Kiến Á</td>\n",
       "      <td>Bán căn hộ chung cư</td>\n",
       "      <td>Dự án Citi Esto, Đường Nguyễn Thị Định, Phường...</td>\n",
       "      <td>2</td>\n",
       "      <td>1</td>\n",
       "      <td>0</td>\n",
       "      <td>1</td>\n",
       "    </tr>\n",
       "  </tbody>\n",
       "</table>\n",
       "</div>"
      ],
      "text/plain": [
       "                                             Tiêu đề  \\\n",
       "0  TRỰC TIẾP CHỦ ĐẦU TƯ - BÁN CĂN HỘ 1PN GIÁ 4.2 ...   \n",
       "1  PHÒNG KINH DOANH SANG NHƯỢNG DỰ ÁN HÀ ĐÔ ...   \n",
       "3  BIỆT THỰ SÂN GOLF ĐƯỜNG QL22, CỦ CHI, GIÁ CHỈ ...   \n",
       "5  CH PROSPER PLAZA FULL NT NHƯ HÌNH 65M2 GIÁ 2.2...   \n",
       "6  CHÍNH CHỦ CẦN BÁN GẤP CH CITI ESTO Q2 - DT: 56...   \n",
       "\n",
       "                                           Chú thích    Giá  Diện tích  \\\n",
       "0  Dự án HaDo Centrosa Garden, Đường 3/2, Phường ...  4.24        61.0   \n",
       "1  Dự án HaDo Centrosa Garden, Đường 3/2, Phường ...   6.8       107.0   \n",
       "3  Đường Quốc Lộ 22, Thị trấn Củ Chi, Củ Chi, Hồ ...   2.9       300.0   \n",
       "5  Dự án Prosper Plaza, Đường Phan Văn Hớn, Phườn...  1.85        50.0   \n",
       "6  Dự án Citi Esto, Đường Nguyễn Thị Định, Phường...   1.6        56.0   \n",
       "\n",
       "                                           Quy mô             Tên dự án  \\\n",
       "0  Gồm: căn hộ cao cấp, nhà phố, biệt thự liền kề  HaDo Centrosa Garden   \n",
       "1  Gồm: căn hộ cao cấp, nhà phố, biệt thự liền kề  HaDo Centrosa Garden   \n",
       "3                                                                         \n",
       "5                 Gồm 1552 căn hộ và 75 Shophouse         Prosper Plaza   \n",
       "6                           Gồm 2 block 25 tầng             Citi Esto   \n",
       "\n",
       "               Chủ đầu tư        Loại tin đăng  \\\n",
       "0          Tập đoàn Hà Đô  Bán căn hộ chung cư   \n",
       "1          Tập đoàn Hà Đô  Bán căn hộ chung cư   \n",
       "3                                Bán nhà riêng   \n",
       "5                          Bán căn hộ chung cư   \n",
       "6  Công ty Cổ phần Kiến Á  Bán căn hộ chung cư   \n",
       "\n",
       "                                             Địa chỉ Số phòng ngủ Số toilet  \\\n",
       "0  Dự án HaDo Centrosa Garden, Đường 3/2, Phường ...           1         1    \n",
       "1  Dự án HaDo Centrosa Garden, Đường 3/2, Phường ...           2          0   \n",
       "3  Đường Quốc Lộ 22, Thị trấn Củ Chi, Củ Chi, Hồ ...           4         5    \n",
       "5  Dự án Prosper Plaza, Đường Phan Văn Hớn, Phườn...           2         2    \n",
       "6  Dự án Citi Esto, Đường Nguyễn Thị Định, Phường...           2         1    \n",
       "\n",
       "  Nội thất Pháp lý  \n",
       "0        0       0  \n",
       "1        0       0  \n",
       "3        1       1  \n",
       "5        0       0  \n",
       "6        0       1  "
      ]
     },
     "execution_count": 125,
     "metadata": {},
     "output_type": "execute_result"
    }
   ],
   "source": [
    "data = data.drop(['Đặc điểm bất động sản', 'Thông tin dự án'], axis = 1)\n",
    "data[:5]"
   ]
  },
  {
   "cell_type": "code",
   "execution_count": 126,
   "metadata": {},
   "outputs": [
    {
     "data": {
      "text/plain": [
       "0    Dự án HaDo Centrosa Garden, Đường 3/2, Phường ...\n",
       "1    Dự án HaDo Centrosa Garden, Đường 3/2, Phường ...\n",
       "3    Đường Quốc Lộ 22, Thị trấn Củ Chi, Củ Chi, Hồ ...\n",
       "5    Dự án Prosper Plaza, Đường Phan Văn Hớn, Phườn...\n",
       "6    Dự án Citi Esto, Đường Nguyễn Thị Định, Phường...\n",
       "Name: Địa chỉ, dtype: object"
      ]
     },
     "execution_count": 126,
     "metadata": {},
     "output_type": "execute_result"
    }
   ],
   "source": [
    "addresses = data['Địa chỉ']\n",
    "addresses[:5]"
   ]
  },
  {
   "cell_type": "code",
   "execution_count": 127,
   "metadata": {},
   "outputs": [],
   "source": [
    "cities = []\n",
    "districts = []\n",
    "wards = []\n",
    "streets = []\n",
    "\n",
    "for address in addresses:\n",
    "    res = address.split(',')\n",
    "    n = len(res)-1\n",
    "    cities.append(res[n])\n",
    "    districts.append(res[n-1])\n",
    "    if (n > 2):\n",
    "        wards.append(res[n-2])\n",
    "    else:\n",
    "        wards.append('')\n",
    "    if (n > 3):\n",
    "        streets.append(res[n-3])\n",
    "    else:\n",
    "        streets.append('')"
   ]
  },
  {
   "cell_type": "code",
   "execution_count": 128,
   "metadata": {},
   "outputs": [],
   "source": [
    "data['Thành phố'] = cities\n",
    "data['Quận'] = districts\n",
    "data['Phường'] = wards\n",
    "data['Đường'] = streets"
   ]
  },
  {
   "cell_type": "code",
   "execution_count": 129,
   "metadata": {},
   "outputs": [
    {
     "data": {
      "text/html": [
       "<div>\n",
       "<style scoped>\n",
       "    .dataframe tbody tr th:only-of-type {\n",
       "        vertical-align: middle;\n",
       "    }\n",
       "\n",
       "    .dataframe tbody tr th {\n",
       "        vertical-align: top;\n",
       "    }\n",
       "\n",
       "    .dataframe thead th {\n",
       "        text-align: right;\n",
       "    }\n",
       "</style>\n",
       "<table border=\"1\" class=\"dataframe\">\n",
       "  <thead>\n",
       "    <tr style=\"text-align: right;\">\n",
       "      <th></th>\n",
       "      <th>Tiêu đề</th>\n",
       "      <th>Chú thích</th>\n",
       "      <th>Giá</th>\n",
       "      <th>Diện tích</th>\n",
       "      <th>Quy mô</th>\n",
       "      <th>Tên dự án</th>\n",
       "      <th>Chủ đầu tư</th>\n",
       "      <th>Loại tin đăng</th>\n",
       "      <th>Số phòng ngủ</th>\n",
       "      <th>Số toilet</th>\n",
       "      <th>Nội thất</th>\n",
       "      <th>Pháp lý</th>\n",
       "      <th>Thành phố</th>\n",
       "      <th>Quận</th>\n",
       "      <th>Phường</th>\n",
       "      <th>Đường</th>\n",
       "    </tr>\n",
       "  </thead>\n",
       "  <tbody>\n",
       "    <tr>\n",
       "      <th>0</th>\n",
       "      <td>TRỰC TIẾP CHỦ ĐẦU TƯ - BÁN CĂN HỘ 1PN GIÁ 4.2 ...</td>\n",
       "      <td>Dự án HaDo Centrosa Garden, Đường 3/2, Phường ...</td>\n",
       "      <td>4.24</td>\n",
       "      <td>61.0</td>\n",
       "      <td>Gồm: căn hộ cao cấp, nhà phố, biệt thự liền kề</td>\n",
       "      <td>HaDo Centrosa Garden</td>\n",
       "      <td>Tập đoàn Hà Đô</td>\n",
       "      <td>Bán căn hộ chung cư</td>\n",
       "      <td>1</td>\n",
       "      <td>1</td>\n",
       "      <td>0</td>\n",
       "      <td>0</td>\n",
       "      <td>Hồ Chí Minh</td>\n",
       "      <td>Quận 10</td>\n",
       "      <td>Phường 12</td>\n",
       "      <td>Đường 3/2</td>\n",
       "    </tr>\n",
       "    <tr>\n",
       "      <th>1</th>\n",
       "      <td>PHÒNG KINH DOANH SANG NHƯỢNG DỰ ÁN HÀ ĐÔ ...</td>\n",
       "      <td>Dự án HaDo Centrosa Garden, Đường 3/2, Phường ...</td>\n",
       "      <td>6.8</td>\n",
       "      <td>107.0</td>\n",
       "      <td>Gồm: căn hộ cao cấp, nhà phố, biệt thự liền kề</td>\n",
       "      <td>HaDo Centrosa Garden</td>\n",
       "      <td>Tập đoàn Hà Đô</td>\n",
       "      <td>Bán căn hộ chung cư</td>\n",
       "      <td>2</td>\n",
       "      <td>0</td>\n",
       "      <td>0</td>\n",
       "      <td>0</td>\n",
       "      <td>Hồ Chí Minh</td>\n",
       "      <td>Quận 10</td>\n",
       "      <td>Phường 12</td>\n",
       "      <td>Đường 3/2</td>\n",
       "    </tr>\n",
       "    <tr>\n",
       "      <th>3</th>\n",
       "      <td>BIỆT THỰ SÂN GOLF ĐƯỜNG QL22, CỦ CHI, GIÁ CHỈ ...</td>\n",
       "      <td>Đường Quốc Lộ 22, Thị trấn Củ Chi, Củ Chi, Hồ ...</td>\n",
       "      <td>2.9</td>\n",
       "      <td>300.0</td>\n",
       "      <td></td>\n",
       "      <td></td>\n",
       "      <td></td>\n",
       "      <td>Bán nhà riêng</td>\n",
       "      <td>4</td>\n",
       "      <td>5</td>\n",
       "      <td>1</td>\n",
       "      <td>1</td>\n",
       "      <td>Hồ Chí Minh</td>\n",
       "      <td>Củ Chi</td>\n",
       "      <td>Thị trấn Củ Chi</td>\n",
       "      <td></td>\n",
       "    </tr>\n",
       "    <tr>\n",
       "      <th>5</th>\n",
       "      <td>CH PROSPER PLAZA FULL NT NHƯ HÌNH 65M2 GIÁ 2.2...</td>\n",
       "      <td>Dự án Prosper Plaza, Đường Phan Văn Hớn, Phườn...</td>\n",
       "      <td>1.85</td>\n",
       "      <td>50.0</td>\n",
       "      <td>Gồm 1552 căn hộ và 75 Shophouse</td>\n",
       "      <td>Prosper Plaza</td>\n",
       "      <td></td>\n",
       "      <td>Bán căn hộ chung cư</td>\n",
       "      <td>2</td>\n",
       "      <td>2</td>\n",
       "      <td>0</td>\n",
       "      <td>0</td>\n",
       "      <td>Hồ Chí Minh</td>\n",
       "      <td>Quận 12</td>\n",
       "      <td>Phường Tân Thới Nhất</td>\n",
       "      <td>Đường Phan Văn Hớn</td>\n",
       "    </tr>\n",
       "    <tr>\n",
       "      <th>6</th>\n",
       "      <td>CHÍNH CHỦ CẦN BÁN GẤP CH CITI ESTO Q2 - DT: 56...</td>\n",
       "      <td>Dự án Citi Esto, Đường Nguyễn Thị Định, Phường...</td>\n",
       "      <td>1.6</td>\n",
       "      <td>56.0</td>\n",
       "      <td>Gồm 2 block 25 tầng</td>\n",
       "      <td>Citi Esto</td>\n",
       "      <td>Công ty Cổ phần Kiến Á</td>\n",
       "      <td>Bán căn hộ chung cư</td>\n",
       "      <td>2</td>\n",
       "      <td>1</td>\n",
       "      <td>0</td>\n",
       "      <td>1</td>\n",
       "      <td>Hồ Chí Minh</td>\n",
       "      <td>Quận 2</td>\n",
       "      <td>Phường Cát Lái</td>\n",
       "      <td>Đường Nguyễn Thị Định</td>\n",
       "    </tr>\n",
       "  </tbody>\n",
       "</table>\n",
       "</div>"
      ],
      "text/plain": [
       "                                             Tiêu đề  \\\n",
       "0  TRỰC TIẾP CHỦ ĐẦU TƯ - BÁN CĂN HỘ 1PN GIÁ 4.2 ...   \n",
       "1  PHÒNG KINH DOANH SANG NHƯỢNG DỰ ÁN HÀ ĐÔ ...   \n",
       "3  BIỆT THỰ SÂN GOLF ĐƯỜNG QL22, CỦ CHI, GIÁ CHỈ ...   \n",
       "5  CH PROSPER PLAZA FULL NT NHƯ HÌNH 65M2 GIÁ 2.2...   \n",
       "6  CHÍNH CHỦ CẦN BÁN GẤP CH CITI ESTO Q2 - DT: 56...   \n",
       "\n",
       "                                           Chú thích    Giá  Diện tích  \\\n",
       "0  Dự án HaDo Centrosa Garden, Đường 3/2, Phường ...  4.24        61.0   \n",
       "1  Dự án HaDo Centrosa Garden, Đường 3/2, Phường ...   6.8       107.0   \n",
       "3  Đường Quốc Lộ 22, Thị trấn Củ Chi, Củ Chi, Hồ ...   2.9       300.0   \n",
       "5  Dự án Prosper Plaza, Đường Phan Văn Hớn, Phườn...  1.85        50.0   \n",
       "6  Dự án Citi Esto, Đường Nguyễn Thị Định, Phường...   1.6        56.0   \n",
       "\n",
       "                                           Quy mô             Tên dự án  \\\n",
       "0  Gồm: căn hộ cao cấp, nhà phố, biệt thự liền kề  HaDo Centrosa Garden   \n",
       "1  Gồm: căn hộ cao cấp, nhà phố, biệt thự liền kề  HaDo Centrosa Garden   \n",
       "3                                                                         \n",
       "5                 Gồm 1552 căn hộ và 75 Shophouse         Prosper Plaza   \n",
       "6                           Gồm 2 block 25 tầng             Citi Esto   \n",
       "\n",
       "               Chủ đầu tư        Loại tin đăng Số phòng ngủ Số toilet  \\\n",
       "0          Tập đoàn Hà Đô  Bán căn hộ chung cư           1         1    \n",
       "1          Tập đoàn Hà Đô  Bán căn hộ chung cư           2          0   \n",
       "3                                Bán nhà riêng           4         5    \n",
       "5                          Bán căn hộ chung cư           2         2    \n",
       "6  Công ty Cổ phần Kiến Á  Bán căn hộ chung cư           2         1    \n",
       "\n",
       "  Nội thất Pháp lý     Thành phố      Quận                 Phường  \\\n",
       "0        0       0   Hồ Chí Minh   Quận 10              Phường 12   \n",
       "1        0       0   Hồ Chí Minh   Quận 10              Phường 12   \n",
       "3        1       1   Hồ Chí Minh    Củ Chi        Thị trấn Củ Chi   \n",
       "5        0       0   Hồ Chí Minh   Quận 12   Phường Tân Thới Nhất   \n",
       "6        0       1   Hồ Chí Minh    Quận 2         Phường Cát Lái   \n",
       "\n",
       "                    Đường  \n",
       "0               Đường 3/2  \n",
       "1               Đường 3/2  \n",
       "3                          \n",
       "5      Đường Phan Văn Hớn  \n",
       "6   Đường Nguyễn Thị Định  "
      ]
     },
     "execution_count": 129,
     "metadata": {},
     "output_type": "execute_result"
    }
   ],
   "source": [
    "data = data.drop(['Địa chỉ'], axis = 1)\n",
    "data[:5]"
   ]
  },
  {
   "cell_type": "code",
   "execution_count": 130,
   "metadata": {},
   "outputs": [],
   "source": [
    "data.to_csv('abc_xyz.csv')"
   ]
  },
  {
   "cell_type": "code",
   "execution_count": 131,
   "metadata": {},
   "outputs": [
    {
     "name": "stdout",
     "output_type": "stream",
     "text": [
      "(17000, 16)\n",
      "Tiêu đề           object\n",
      "Chú thích         object\n",
      "Giá               object\n",
      "Diện tích        float64\n",
      "Quy mô            object\n",
      "Tên dự án         object\n",
      "Chủ đầu tư        object\n",
      "Loại tin đăng     object\n",
      "Số phòng ngủ      object\n",
      "Số toilet         object\n",
      "Nội thất          object\n",
      "Pháp lý           object\n",
      "Thành phố         object\n",
      "Quận              object\n",
      "Phường            object\n",
      "Đường             object\n",
      "dtype: object\n"
     ]
    }
   ],
   "source": [
    "print(data.shape)\n",
    "print(data.dtypes)"
   ]
  },
  {
   "cell_type": "code",
   "execution_count": 134,
   "metadata": {},
   "outputs": [
    {
     "name": "stdout",
     "output_type": "stream",
     "text": [
      "Tiêu đề            object\n",
      "Chú thích          object\n",
      "Giá               float64\n",
      "Diện tích         float64\n",
      "Quy mô             object\n",
      "Tên dự án          object\n",
      "Chủ đầu tư         object\n",
      "Loại tin đăng    category\n",
      "Số phòng ngủ        int64\n",
      "Số toilet           int64\n",
      "Nội thất            int64\n",
      "Pháp lý             int64\n",
      "Thành phố          object\n",
      "Quận             category\n",
      "Phường           category\n",
      "Đường            category\n",
      "dtype: object\n"
     ]
    }
   ],
   "source": [
    "data = data.astype({\"Giá\": \"float\",\n",
    "                    \"Diện tích\":\"float\",\n",
    "                    \"Số phòng ngủ\":\"int\",\n",
    "                    \"Số toilet\": \"int\",\n",
    "                    \"Nội thất\": \"int\",\n",
    "                    \"Quận\": \"category\",\n",
    "                   \"Loại tin đăng\": \"category\",\n",
    "                   \"Đường\": \"category\",\n",
    "                   \"Phường\": \"category\",\n",
    "                   \"Pháp lý\": \"int\"})\n",
    "print(data.dtypes)"
   ]
  },
  {
   "cell_type": "code",
   "execution_count": 135,
   "metadata": {
    "scrolled": true
   },
   "outputs": [
    {
     "name": "stdout",
     "output_type": "stream",
     "text": [
      "Giá               float64\n",
      "Diện tích         float64\n",
      "Loại tin đăng    category\n",
      "Số phòng ngủ        int64\n",
      "Số toilet           int64\n",
      "Nội thất            int64\n",
      "Pháp lý             int64\n",
      "Quận             category\n",
      "Phường           category\n",
      "dtype: object\n",
      "(17000, 9)\n"
     ]
    }
   ],
   "source": [
    "main_data = data[[\"Giá\",\"Diện tích\",\"Loại tin đăng\", \"Số phòng ngủ\",\"Số toilet\",\"Nội thất\",\"Pháp lý\",\"Quận\",\"Phường\"]]\n",
    "print(main_data.dtypes)\n",
    "print(main_data.shape)"
   ]
  },
  {
   "cell_type": "code",
   "execution_count": 136,
   "metadata": {},
   "outputs": [
    {
     "name": "stdout",
     "output_type": "stream",
     "text": [
      "Loại tin đăng:  ['Bán căn hộ chung cư', 'Bán nhà riêng', 'Bán đất']\n",
      "Categories (3, object): ['Bán căn hộ chung cư', 'Bán nhà riêng', 'Bán đất'] \n",
      "\n",
      "Pháp lý:  [0 1] \n",
      "\n",
      "Quận:  [' Quận 10', ' Củ Chi', ' Quận 12', ' Quận 2', ' Bình Thạnh', ' Quận 9', ' Quận 7', ' Quận 8', ' Bình Tân']\n",
      "Categories (9, object): [' Quận 10', ' Củ Chi', ' Quận 12', ' Quận 2', ..., ' Quận 9', ' Quận 7', ' Quận 8', ' Bình Tân'] \n",
      "\n",
      "Phường:  [' Phường 12', ' Thị trấn Củ Chi', ' Phường Tân Thới Nhất', ' Phường Cát Lái', ' Phường Thủ Thiêm', ..., '', ' Phường Tân Hưng', ' Phường Long Thạnh Mỹ', ' Phường 4', ' Phường Bình Trị Đông B']\n",
      "Length: 12\n",
      "Categories (12, object): [' Phường 12', ' Thị trấn Củ Chi', ' Phường Tân Thới Nhất', ' Phường Cát Lái', ..., ' Phường Tân Hưng', ' Phường Long Thạnh Mỹ', ' Phường 4', ' Phường Bình Trị Đông B'] \n",
      "\n",
      "Nội thất: [0 1] \n",
      "\n",
      "Loại tin đăng: ['Bán căn hộ chung cư', 'Bán nhà riêng', 'Bán đất']\n",
      "Categories (3, object): ['Bán căn hộ chung cư', 'Bán nhà riêng', 'Bán đất'] \n",
      "\n"
     ]
    }
   ],
   "source": [
    "print(\"Loại tin đăng: \", main_data[\"Loại tin đăng\"].unique(), \"\\n\")\n",
    "print(\"Pháp lý: \", main_data[\"Pháp lý\"].unique(), \"\\n\")\n",
    "print(\"Quận: \", main_data[\"Quận\"].unique(), \"\\n\")\n",
    "print(\"Phường: \", main_data[\"Phường\"].unique(), \"\\n\")\n",
    "print(\"Nội thất:\", main_data[\"Nội thất\"].unique(), \"\\n\")\n",
    "print(\"Loại tin đăng:\", main_data[\"Loại tin đăng\"].unique(), \"\\n\")"
   ]
  },
  {
   "cell_type": "code",
   "execution_count": 137,
   "metadata": {},
   "outputs": [
    {
     "data": {
      "text/plain": [
       "0    0\n",
       "1    0\n",
       "3    1\n",
       "5    2\n",
       "6    3\n",
       "Name: Quận, dtype: int8"
      ]
     },
     "execution_count": 137,
     "metadata": {},
     "output_type": "execute_result"
    }
   ],
   "source": [
    "data['Quận'] = data['Quận'].cat.reorder_categories([' Quận 10', ' Củ Chi', ' Quận 12', ' Quận 2', ' Bình Thạnh', ' Quận 9', ' Quận 7', ' Quận 8', ' Bình Tân'], ordered=True)\n",
    "data['Quận'] = data['Quận'].cat.codes\n",
    "data['Quận'].head()"
   ]
  },
  {
   "cell_type": "code",
   "execution_count": 138,
   "metadata": {},
   "outputs": [
    {
     "data": {
      "text/plain": [
       "0    0\n",
       "1    0\n",
       "3    1\n",
       "5    0\n",
       "6    0\n",
       "Name: Loại tin đăng, dtype: int8"
      ]
     },
     "execution_count": 138,
     "metadata": {},
     "output_type": "execute_result"
    }
   ],
   "source": [
    "data['Loại tin đăng'] = data['Loại tin đăng'].cat.reorder_categories(['Bán căn hộ chung cư', 'Bán nhà riêng', 'Bán đất'], ordered=True)\n",
    "data['Loại tin đăng'] = data['Loại tin đăng'].cat.codes\n",
    "data['Loại tin đăng'].head()"
   ]
  },
  {
   "cell_type": "code",
   "execution_count": 139,
   "metadata": {},
   "outputs": [],
   "source": [
    "import numpy as np \n",
    "import pandas as pd \n",
    "import seaborn as sns \n",
    "import matplotlib.pyplot as plt \n",
    "from sklearn import preprocessing, svm \n",
    "from sklearn.model_selection import train_test_split \n",
    "from sklearn.linear_model import LinearRegression "
   ]
  },
  {
   "cell_type": "code",
   "execution_count": 140,
   "metadata": {},
   "outputs": [
    {
     "name": "stdout",
     "output_type": "stream",
     "text": [
      "Giá\n"
     ]
    },
    {
     "data": {
      "text/plain": [
       "count    17000.000000\n",
       "mean         3.759412\n",
       "std          2.250001\n",
       "min          1.600000\n",
       "25%          2.160000\n",
       "50%          2.900000\n",
       "75%          4.500000\n",
       "max          8.800000\n",
       "Name: Giá, dtype: float64"
      ]
     },
     "execution_count": 140,
     "metadata": {},
     "output_type": "execute_result"
    }
   ],
   "source": [
    "print(\"Giá\")\n",
    "main_data[\"Giá\"].describe()"
   ]
  },
  {
   "cell_type": "code",
   "execution_count": 141,
   "metadata": {},
   "outputs": [
    {
     "name": "stdout",
     "output_type": "stream",
     "text": [
      "Diện tích\n"
     ]
    },
    {
     "data": {
      "text/plain": [
       "count    17000.000000\n",
       "mean        82.882353\n",
       "std         56.810828\n",
       "min         47.000000\n",
       "25%         56.000000\n",
       "50%         65.000000\n",
       "75%         85.000000\n",
       "max        300.000000\n",
       "Name: Diện tích, dtype: float64"
      ]
     },
     "execution_count": 141,
     "metadata": {},
     "output_type": "execute_result"
    }
   ],
   "source": [
    "print(\"Diện tích\")\n",
    "main_data[\"Diện tích\"].describe()"
   ]
  },
  {
   "cell_type": "markdown",
   "metadata": {},
   "source": [
    "Giá đất trung bình ở các quận TPHCM"
   ]
  },
  {
   "cell_type": "code",
   "execution_count": 142,
   "metadata": {},
   "outputs": [
    {
     "data": {
      "text/plain": [
       "[<matplotlib.lines.Line2D at 0x7fe14564ff10>]"
      ]
     },
     "execution_count": 142,
     "metadata": {},
     "output_type": "execute_result"
    },
    {
     "data": {
      "image/png": "[encoded data removed]",
      "text/plain": [
       "<Figure size 720x288 with 1 Axes>"
      ]
     },
     "metadata": {
      "needs_background": "light"
     },
     "output_type": "display_data"
    }
   ],
   "source": [
    "quan = [' Quận 10', ' Củ Chi', ' Quận 12', ' Quận 2', ' Bình Thạnh', ' Quận 9', ' Quận 7', ' Quận 8', ' Bình Tân']\n",
    "mean_gia = []\n",
    "for i in quan:\n",
    "    mean_gia.append(main_data[main_data[\"Quận\"] == i][\"Giá\"].mean())\n",
    "plt.figure(figsize=(10,4))\n",
    "plt.plot( quan, mean_gia, \"bo\")"
   ]
  },
  {
   "cell_type": "markdown",
   "metadata": {},
   "source": [
    "Phân bố mức giá "
   ]
  },
  {
   "cell_type": "code",
   "execution_count": 143,
   "metadata": {},
   "outputs": [
    {
     "data": {
      "text/plain": [
       "(array([6000., 3000., 2000., 1000., 2000.,    0.,    0., 1000.,    0.,\n",
       "        2000.]),\n",
       " array([1.6 , 2.32, 3.04, 3.76, 4.48, 5.2 , 5.92, 6.64, 7.36, 8.08, 8.8 ]),\n",
       " <BarContainer object of 10 artists>)"
      ]
     },
     "execution_count": 143,
     "metadata": {},
     "output_type": "execute_result"
    },
    {
     "data": {
      "image/png": "[encoded data removed]",
      "text/plain": [
       "<Figure size 720x288 with 1 Axes>"
      ]
     },
     "metadata": {
      "needs_background": "light"
     },
     "output_type": "display_data"
    }
   ],
   "source": [
    "plt.figure(figsize=(10,4))\n",
    "plt.hist(main_data[\"Giá\"])"
   ]
  },
  {
   "cell_type": "code",
   "execution_count": 144,
   "metadata": {},
   "outputs": [],
   "source": [
    "data.fillna(method ='ffill', inplace = True) "
   ]
  },
  {
   "cell_type": "code",
   "execution_count": 146,
   "metadata": {},
   "outputs": [
    {
     "data": {
      "image/png": "[encoded data removed]",
      "text/plain": [
       "<Figure size 432x288 with 2 Axes>"
      ]
     },
     "metadata": {
      "needs_background": "light"
     },
     "output_type": "display_data"
    }
   ],
   "source": [
    "import seaborn as sns\n",
    "heat = data[['Giá','Diện tích','Số phòng ngủ', 'Số toilet','Pháp lý','Nội thất','Quận']]\n",
    "ax = sns.heatmap(heat.corr(), annot=True)"
   ]
  },
  {
   "cell_type": "code",
   "execution_count": 149,
   "metadata": {},
   "outputs": [],
   "source": [
    "X = data[['Diện tích','Số phòng ngủ', 'Số toilet','Pháp lý','Nội thất','Quận']] \n",
    "y = data['Giá']"
   ]
  },
  {
   "cell_type": "code",
   "execution_count": 150,
   "metadata": {},
   "outputs": [],
   "source": [
    "from sklearn.model_selection import train_test_split\n",
    "X_train, X_test, y_train, y_test = train_test_split(X, y, test_size=0.2, random_state=0)"
   ]
  },
  {
   "cell_type": "code",
   "execution_count": 151,
   "metadata": {},
   "outputs": [
    {
     "name": "stdout",
     "output_type": "stream",
     "text": [
      "0.3183929443568755\n"
     ]
    }
   ],
   "source": [
    "regr = LinearRegression() \n",
    "  \n",
    "regr.fit(X_train, y_train) \n",
    "print(regr.score(X_test, y_test)) "
   ]
  },
  {
   "cell_type": "code",
   "execution_count": 152,
   "metadata": {},
   "outputs": [],
   "source": [
    "y_pred = regr.predict(X_test)"
   ]
  },
  {
   "cell_type": "code",
   "execution_count": 153,
   "metadata": {},
   "outputs": [
    {
     "name": "stdout",
     "output_type": "stream",
     "text": [
      "Mean Absolute Error: 1.4375775740878407\n",
      "Mean Squared Error: 3.4532304785684382\n",
      "Root Mean Squared Error: 1.8582869742234212\n"
     ]
    }
   ],
   "source": [
    "from sklearn import metrics\n",
    "print('Mean Absolute Error:', metrics.mean_absolute_error(y_test, y_pred))\n",
    "print('Mean Squared Error:', metrics.mean_squared_error(y_test, y_pred))\n",
    "print('Root Mean Squared Error:', np.sqrt(metrics.mean_squared_error(y_test, y_pred)))"
   ]
  },
  {
   "cell_type": "code",
   "execution_count": 78,
   "metadata": {},
   "outputs": [],
   "source": [
    "import matplotlib.pyplot as plt"
   ]
  },
  {
   "cell_type": "markdown",
   "metadata": {},
   "source": [
    "### Ý nghĩa dữ liệu"
   ]
  },
  {
   "cell_type": "markdown",
   "metadata": {},
   "source": [
    "#### Trường dữ liệu thu thập:\n"
   ]
  },
  {
   "cell_type": "markdown",
   "metadata": {},
   "source": [
    "- Tiêu đề\n",
    "- Chú thích\n",
    "- Diện tích\n",
    "- Đặc điểm bất động sản\n",
    "- Thông tin dự án\n",
    "- Giá"
   ]
  },
  {
   "cell_type": "markdown",
   "metadata": {},
   "source": [
    "#### Thông tin chi tiết các trường dữ liệu:"
   ]
  },
  {
   "cell_type": "markdown",
   "metadata": {},
   "source": [
    "#### Tiêu đề"
   ]
  },
  {
   "cell_type": "markdown",
   "metadata": {},
   "source": [
    "Kiểu dữ liệu: Chuỗi kí tự"
   ]
  },
  {
   "cell_type": "markdown",
   "metadata": {},
   "source": [
    "Ý nghĩa: Mô tả sơ lược về thông tin bất động sản"
   ]
  },
  {
   "cell_type": "markdown",
   "metadata": {},
   "source": [
    "### Đánh giá đồ án"
   ]
  },
  {
   "cell_type": "markdown",
   "metadata": {},
   "source": [
    "### Phân công công việc"
   ]
  },
  {
   "cell_type": "markdown",
   "metadata": {},
   "source": [
    "| STT | Công việc | Thành viên thực hiện |\n",
    "| --- | --- | --- |\n",
    "| 01 | Lựa chọn câu hỏi | Nguyễn Huỳnh Thảo Nhi, Lê Bá Quyền |\n",
    "| 02 | Lựa chọn phương thức thu thập dữ liệu | Nguyễn Huỳnh Thảo Nhi, Lê Bá Quyền |\n",
    "| 03 | Thu thập dữ liệu | Lê Bá Quyền |\n",
    "| 04 | Tiền xử lý dữ liệu | Nguyễn Huỳnh Thảo Nhi |\n",
    "| 05 | Đánh giá dữ liệu | Lê Bá Quyền |\n",
    "| 06 | Lựa chọn, áp dụng mô hình máy học | Nguyễn Huỳnh Thảo Nhi |\n",
    "| 08 | Đánh giá kết quả training | Lê Bá Quyền |\n",
    "| 09 | Visualize dữ liệu | Lê Bá Quyền, Nguyễn Huỳnh Thảo Nhi |\n",
    "| 10 | Tổng hợp, viết document | Nguyễn Huỳnh Thảo Nhi  |"
   ]
  },
  {
   "cell_type": "markdown",
   "metadata": {},
   "source": [
    "### Hướng dẫn "
   ]
  },
  {
   "cell_type": "markdown",
   "metadata": {},
   "source": [
    "#### Môi trường:"
   ]
  },
  {
   "cell_type": "markdown",
   "metadata": {},
   "source": [
    "- Jupyter Notebook"
   ]
  },
  {
   "cell_type": "markdown",
   "metadata": {},
   "source": [
    "#### Ngôn ngữ:"
   ]
  },
  {
   "cell_type": "markdown",
   "metadata": {},
   "source": [
    "- Python version 2.7.0"
   ]
  },
  {
   "cell_type": "markdown",
   "metadata": {},
   "source": [
    "#### Phần mềm cài đặt:"
   ]
  },
  {
   "cell_type": "markdown",
   "metadata": {},
   "source": [
    "- Anaconda-Navigator"
   ]
  },
  {
   "cell_type": "markdown",
   "metadata": {},
   "source": [
    "#### Hướng dẫn quy trình cài đặt:"
   ]
  },
  {
   "cell_type": "markdown",
   "metadata": {},
   "source": [
    "1. Cài đặt Python. Tham khảo tại trang web https://www.python.org/"
   ]
  },
  {
   "cell_type": "markdown",
   "metadata": {},
   "source": [
    "2. Cài đặt Anaconda. Tham khảo tại trang web https://www.anaconda.com/products/individual"
   ]
  },
  {
   "cell_type": "markdown",
   "metadata": {},
   "source": [
    "3. Launch Jupyter Notebook bằng Anaconda."
   ]
  },
  {
   "cell_type": "markdown",
   "metadata": {},
   "source": [
    "4. Mở file ipynb bằng Jupyter notebook."
   ]
  },
  {
   "cell_type": "markdown",
   "metadata": {},
   "source": [
    "5. Run file ipynb: Kernel -> Restart & Run All"
   ]
  },
  {
   "cell_type": "code",
   "execution_count": null,
   "metadata": {},
   "outputs": [],
   "source": []
  }
 ],
 "metadata": {
  "kernelspec": {
   "display_name": "Python 3",
   "language": "python",
   "name": "python3"
  },
  "language_info": {
   "codemirror_mode": {
    "name": "ipython",
    "version": 3
   },
   "file_extension": ".py",
   "mimetype": "text/x-python",
   "name": "python",
   "nbconvert_exporter": "python",
   "pygments_lexer": "ipython3",
   "version": "3.7.4"
  }
 },
 "nbformat": 4,
 "nbformat_minor": 4
}
